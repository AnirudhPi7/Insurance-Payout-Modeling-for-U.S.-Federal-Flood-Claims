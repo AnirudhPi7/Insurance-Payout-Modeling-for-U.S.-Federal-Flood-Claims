{
  "nbformat": 4,
  "nbformat_minor": 0,
  "metadata": {
    "colab": {
      "provenance": []
    },
    "kernelspec": {
      "name": "python3",
      "display_name": "Python 3"
    },
    "language_info": {
      "name": "python"
    }
  },
  "cells": [
    {
      "cell_type": "code",
      "metadata": {
        "colab": {
          "base_uri": "https://localhost:8080/"
        },
        "id": "e1705e05",
        "outputId": "c72421d8-7f78-4962-e78c-12d84ae71927"
      },
      "source": [
        "%pip install linearmodels"
      ],
      "execution_count": null,
      "outputs": [
        {
          "output_type": "stream",
          "name": "stdout",
          "text": [
            "Requirement already satisfied: linearmodels in /usr/local/lib/python3.11/dist-packages (6.1)\n",
            "Requirement already satisfied: numpy<3,>=1.22.3 in /usr/local/lib/python3.11/dist-packages (from linearmodels) (2.0.2)\n",
            "Requirement already satisfied: pandas>=1.4.0 in /usr/local/lib/python3.11/dist-packages (from linearmodels) (2.2.2)\n",
            "Requirement already satisfied: scipy>=1.8.0 in /usr/local/lib/python3.11/dist-packages (from linearmodels) (1.15.3)\n",
            "Requirement already satisfied: statsmodels>=0.13.0 in /usr/local/lib/python3.11/dist-packages (from linearmodels) (0.14.4)\n",
            "Requirement already satisfied: mypy-extensions>=0.4 in /usr/local/lib/python3.11/dist-packages (from linearmodels) (1.1.0)\n",
            "Requirement already satisfied: Cython>=3.0.10 in /usr/local/lib/python3.11/dist-packages (from linearmodels) (3.0.12)\n",
            "Requirement already satisfied: pyhdfe>=0.1 in /usr/local/lib/python3.11/dist-packages (from linearmodels) (0.2.0)\n",
            "Requirement already satisfied: formulaic>=1.0.0 in /usr/local/lib/python3.11/dist-packages (from linearmodels) (1.1.1)\n",
            "Requirement already satisfied: setuptools-scm<9.0.0,>=8.0.0 in /usr/local/lib/python3.11/dist-packages (from setuptools-scm[toml]<9.0.0,>=8.0.0->linearmodels) (8.3.1)\n",
            "Requirement already satisfied: interface-meta>=1.2.0 in /usr/local/lib/python3.11/dist-packages (from formulaic>=1.0.0->linearmodels) (1.3.0)\n",
            "Requirement already satisfied: typing-extensions>=4.2.0 in /usr/local/lib/python3.11/dist-packages (from formulaic>=1.0.0->linearmodels) (4.14.0)\n",
            "Requirement already satisfied: wrapt>=1.0 in /usr/local/lib/python3.11/dist-packages (from formulaic>=1.0.0->linearmodels) (1.17.2)\n",
            "Requirement already satisfied: python-dateutil>=2.8.2 in /usr/local/lib/python3.11/dist-packages (from pandas>=1.4.0->linearmodels) (2.9.0.post0)\n",
            "Requirement already satisfied: pytz>=2020.1 in /usr/local/lib/python3.11/dist-packages (from pandas>=1.4.0->linearmodels) (2025.2)\n",
            "Requirement already satisfied: tzdata>=2022.7 in /usr/local/lib/python3.11/dist-packages (from pandas>=1.4.0->linearmodels) (2025.2)\n",
            "Requirement already satisfied: packaging>=20 in /usr/local/lib/python3.11/dist-packages (from setuptools-scm<9.0.0,>=8.0.0->setuptools-scm[toml]<9.0.0,>=8.0.0->linearmodels) (24.2)\n",
            "Requirement already satisfied: setuptools in /usr/local/lib/python3.11/dist-packages (from setuptools-scm<9.0.0,>=8.0.0->setuptools-scm[toml]<9.0.0,>=8.0.0->linearmodels) (75.2.0)\n",
            "Requirement already satisfied: patsy>=0.5.6 in /usr/local/lib/python3.11/dist-packages (from statsmodels>=0.13.0->linearmodels) (1.0.1)\n",
            "Requirement already satisfied: six>=1.5 in /usr/local/lib/python3.11/dist-packages (from python-dateutil>=2.8.2->pandas>=1.4.0->linearmodels) (1.17.0)\n"
          ]
        }
      ]
    },
    {
      "cell_type": "code",
      "source": [
        "import pandas as pd\n",
        "df = pd.read_csv('/content/drive/MyDrive/EMBABE/final.csv')"
      ],
      "metadata": {
        "id": "M40Lj5GjLJQ5"
      },
      "execution_count": null,
      "outputs": []
    },
    {
      "cell_type": "code",
      "source": [
        "df.shape"
      ],
      "metadata": {
        "colab": {
          "base_uri": "https://localhost:8080/"
        },
        "id": "JEw87bZuN92D",
        "outputId": "64cf4ced-4454-4e70-c66d-c3687234cb16"
      },
      "execution_count": null,
      "outputs": [
        {
          "output_type": "execute_result",
          "data": {
            "text/plain": [
              "(243692, 40)"
            ]
          },
          "metadata": {},
          "execution_count": 57
        }
      ]
    },
    {
      "cell_type": "code",
      "source": [
        "df = df[df['amountPaidOnBuildingClaim']<1500000]\n",
        "df = df[df['buildingDamageAmount']<2000000]\n",
        "df = df[df['BuildingAge']<150]\n",
        "df = df[df['amountPaidOnIncreasedCostOfComplianceClaim']<32000]\n",
        "df = df[df['buildingPropertyValue']!=0]"
      ],
      "metadata": {
        "id": "JyvaZ5qBoT4A"
      },
      "execution_count": null,
      "outputs": []
    },
    {
      "cell_type": "code",
      "source": [
        "df.shape"
      ],
      "metadata": {
        "colab": {
          "base_uri": "https://localhost:8080/"
        },
        "id": "r0LQUqkibdNA",
        "outputId": "a637f884-0bf9-49f0-e97e-ce3d7b4dbdad"
      },
      "execution_count": null,
      "outputs": [
        {
          "output_type": "execute_result",
          "data": {
            "text/plain": [
              "(243498, 46)"
            ]
          },
          "metadata": {},
          "execution_count": 71
        }
      ]
    },
    {
      "cell_type": "code",
      "metadata": {
        "colab": {
          "base_uri": "https://localhost:8080/",
          "height": 620
        },
        "id": "8eae59c7",
        "outputId": "f843781c-6fc2-4547-bca7-d15786365e1e"
      },
      "source": [
        "import numpy as np\n",
        "\n",
        "# Check the available columns in the dataframe\n",
        "print(df.columns)\n",
        "\n",
        "log_transform_cols = [\n",
        "    'policyCount',\n",
        "    'totalBuildingInsuranceCoverage',\n",
        "    'buildingPropertyValue',\n",
        "    'buildingReplacementCost', # Corrected column name\n",
        "    'waterDepth',\n",
        "]\n",
        "\n",
        "for col in log_transform_cols:\n",
        "    # Add a small constant to handle zero values before taking the log\n",
        "    df['log' + col] = np.log(df[col] + 1)\n",
        "\n",
        "# For waterDepth, use signed log transformation as it can be negative\n",
        "df['signedLogWwaterDepth'] = np.sign(df['waterDepth']) * np.log(np.abs(df['waterDepth']) + 1)\n",
        "\n",
        "display(df.head())"
      ],
      "execution_count": null,
      "outputs": [
        {
          "output_type": "stream",
          "name": "stdout",
          "text": [
            "Index(['agricultureStructureIndicator', 'policyCount',\n",
            "       'elevatedBuildingIndicator', 'houseWorship', 'locationOfContents',\n",
            "       'numberOfFloorsInTheInsuredBuilding', 'nonProfitIndicator',\n",
            "       'obstructionType', 'occupancyType', 'amountPaidOnBuildingClaim',\n",
            "       'amountPaidOnContentsClaim',\n",
            "       'amountPaidOnIncreasedCostOfComplianceClaim',\n",
            "       'postFIRMConstructionIndicator', 'smallBusinessIndicatorBuilding',\n",
            "       'totalBuildingInsuranceCoverage', 'totalContentsInsuranceCoverage',\n",
            "       'yearOfLoss', 'primaryResidenceIndicator', 'buildingDamageAmount',\n",
            "       'buildingPropertyValue', 'disasterAssistanceCoverageRequired',\n",
            "       'ficoNumber', 'floodWaterDuration', 'floodproofedIndicator',\n",
            "       'iccCoverage', 'netIccPaymentAmount', 'nfipRatedCommunityNumber',\n",
            "       'numberOfUnits', 'buildingReplacementCost', 'replacementCostBasis',\n",
            "       'stateOwnedIndicator', 'waterDepth', 'rentalPropertyIndicator',\n",
            "       'reportedZipCode', 'countyCode', 'censusTract', 'censusBlockGroupFips',\n",
            "       'latitude', 'longitude', 'BuildingAge'],\n",
            "      dtype='object')\n"
          ]
        },
        {
          "output_type": "stream",
          "name": "stderr",
          "text": [
            "/usr/local/lib/python3.11/dist-packages/pandas/core/arraylike.py:399: RuntimeWarning: divide by zero encountered in log\n",
            "  result = getattr(ufunc, method)(*inputs, **kwargs)\n",
            "/usr/local/lib/python3.11/dist-packages/pandas/core/arraylike.py:399: RuntimeWarning: invalid value encountered in log\n",
            "  result = getattr(ufunc, method)(*inputs, **kwargs)\n"
          ]
        },
        {
          "output_type": "display_data",
          "data": {
            "text/plain": [
              "   agricultureStructureIndicator  policyCount  elevatedBuildingIndicator  \\\n",
              "0                              0            1                          1   \n",
              "1                              0            1                          0   \n",
              "2                              0            1                          0   \n",
              "3                              0            1                          1   \n",
              "4                              0            1                          0   \n",
              "\n",
              "   houseWorship  locationOfContents  numberOfFloorsInTheInsuredBuilding  \\\n",
              "0             0                   3                                   1   \n",
              "1             0                   4                                   2   \n",
              "2             0                   4                                   2   \n",
              "3             0                   3                                   1   \n",
              "4             0                   3                                   1   \n",
              "\n",
              "   nonProfitIndicator  obstructionType  occupancyType  \\\n",
              "0                   0               10              1   \n",
              "1                   0               10              2   \n",
              "2                   0               10              1   \n",
              "3                   0               10              4   \n",
              "4                   0               10              1   \n",
              "\n",
              "   amountPaidOnBuildingClaim  ...  censusBlockGroupFips  latitude  longitude  \\\n",
              "0                   27213.28  ...          4.820120e+11      29.9      -95.4   \n",
              "1                   10004.72  ...          3.712900e+11      34.1      -77.9   \n",
              "2                   17054.76  ...          3.403120e+11      40.9      -74.2   \n",
              "3                   10800.00  ...          2.211400e+11      29.9      -92.1   \n",
              "4                   14286.10  ...          1.202700e+11      27.2      -82.0   \n",
              "\n",
              "   BuildingAge  logpolicyCount  logtotalBuildingInsuranceCoverage  \\\n",
              "0    39.649555        0.693147                          12.429220   \n",
              "1    28.153320        0.693147                          11.480413   \n",
              "2    36.254620        0.693147                          10.755794   \n",
              "3    23.334702        0.693147                          10.499601   \n",
              "4     9.483915        0.693147                          11.130215   \n",
              "\n",
              "   logbuildingPropertyValue  logbuildingReplacementCost  logwaterDepth  \\\n",
              "0                 11.637741                   11.719753       0.693147   \n",
              "1                 11.508546                   11.647815       0.000000   \n",
              "2                 11.429413                   11.627860       0.693147   \n",
              "3                 11.595565                   12.011079       1.791759   \n",
              "4                 10.628884                    0.000000       1.386294   \n",
              "\n",
              "   signedLogWwaterDepth  \n",
              "0              0.693147  \n",
              "1              0.000000  \n",
              "2              0.693147  \n",
              "3              1.791759  \n",
              "4              1.386294  \n",
              "\n",
              "[5 rows x 46 columns]"
            ],
            "text/html": [
              "\n",
              "  <div id=\"df-23434e63-5848-46fd-bc4a-d030ed7bbd71\" class=\"colab-df-container\">\n",
              "    <div>\n",
              "<style scoped>\n",
              "    .dataframe tbody tr th:only-of-type {\n",
              "        vertical-align: middle;\n",
              "    }\n",
              "\n",
              "    .dataframe tbody tr th {\n",
              "        vertical-align: top;\n",
              "    }\n",
              "\n",
              "    .dataframe thead th {\n",
              "        text-align: right;\n",
              "    }\n",
              "</style>\n",
              "<table border=\"1\" class=\"dataframe\">\n",
              "  <thead>\n",
              "    <tr style=\"text-align: right;\">\n",
              "      <th></th>\n",
              "      <th>agricultureStructureIndicator</th>\n",
              "      <th>policyCount</th>\n",
              "      <th>elevatedBuildingIndicator</th>\n",
              "      <th>houseWorship</th>\n",
              "      <th>locationOfContents</th>\n",
              "      <th>numberOfFloorsInTheInsuredBuilding</th>\n",
              "      <th>nonProfitIndicator</th>\n",
              "      <th>obstructionType</th>\n",
              "      <th>occupancyType</th>\n",
              "      <th>amountPaidOnBuildingClaim</th>\n",
              "      <th>...</th>\n",
              "      <th>censusBlockGroupFips</th>\n",
              "      <th>latitude</th>\n",
              "      <th>longitude</th>\n",
              "      <th>BuildingAge</th>\n",
              "      <th>logpolicyCount</th>\n",
              "      <th>logtotalBuildingInsuranceCoverage</th>\n",
              "      <th>logbuildingPropertyValue</th>\n",
              "      <th>logbuildingReplacementCost</th>\n",
              "      <th>logwaterDepth</th>\n",
              "      <th>signedLogWwaterDepth</th>\n",
              "    </tr>\n",
              "  </thead>\n",
              "  <tbody>\n",
              "    <tr>\n",
              "      <th>0</th>\n",
              "      <td>0</td>\n",
              "      <td>1</td>\n",
              "      <td>1</td>\n",
              "      <td>0</td>\n",
              "      <td>3</td>\n",
              "      <td>1</td>\n",
              "      <td>0</td>\n",
              "      <td>10</td>\n",
              "      <td>1</td>\n",
              "      <td>27213.28</td>\n",
              "      <td>...</td>\n",
              "      <td>4.820120e+11</td>\n",
              "      <td>29.9</td>\n",
              "      <td>-95.4</td>\n",
              "      <td>39.649555</td>\n",
              "      <td>0.693147</td>\n",
              "      <td>12.429220</td>\n",
              "      <td>11.637741</td>\n",
              "      <td>11.719753</td>\n",
              "      <td>0.693147</td>\n",
              "      <td>0.693147</td>\n",
              "    </tr>\n",
              "    <tr>\n",
              "      <th>1</th>\n",
              "      <td>0</td>\n",
              "      <td>1</td>\n",
              "      <td>0</td>\n",
              "      <td>0</td>\n",
              "      <td>4</td>\n",
              "      <td>2</td>\n",
              "      <td>0</td>\n",
              "      <td>10</td>\n",
              "      <td>2</td>\n",
              "      <td>10004.72</td>\n",
              "      <td>...</td>\n",
              "      <td>3.712900e+11</td>\n",
              "      <td>34.1</td>\n",
              "      <td>-77.9</td>\n",
              "      <td>28.153320</td>\n",
              "      <td>0.693147</td>\n",
              "      <td>11.480413</td>\n",
              "      <td>11.508546</td>\n",
              "      <td>11.647815</td>\n",
              "      <td>0.000000</td>\n",
              "      <td>0.000000</td>\n",
              "    </tr>\n",
              "    <tr>\n",
              "      <th>2</th>\n",
              "      <td>0</td>\n",
              "      <td>1</td>\n",
              "      <td>0</td>\n",
              "      <td>0</td>\n",
              "      <td>4</td>\n",
              "      <td>2</td>\n",
              "      <td>0</td>\n",
              "      <td>10</td>\n",
              "      <td>1</td>\n",
              "      <td>17054.76</td>\n",
              "      <td>...</td>\n",
              "      <td>3.403120e+11</td>\n",
              "      <td>40.9</td>\n",
              "      <td>-74.2</td>\n",
              "      <td>36.254620</td>\n",
              "      <td>0.693147</td>\n",
              "      <td>10.755794</td>\n",
              "      <td>11.429413</td>\n",
              "      <td>11.627860</td>\n",
              "      <td>0.693147</td>\n",
              "      <td>0.693147</td>\n",
              "    </tr>\n",
              "    <tr>\n",
              "      <th>3</th>\n",
              "      <td>0</td>\n",
              "      <td>1</td>\n",
              "      <td>1</td>\n",
              "      <td>0</td>\n",
              "      <td>3</td>\n",
              "      <td>1</td>\n",
              "      <td>0</td>\n",
              "      <td>10</td>\n",
              "      <td>4</td>\n",
              "      <td>10800.00</td>\n",
              "      <td>...</td>\n",
              "      <td>2.211400e+11</td>\n",
              "      <td>29.9</td>\n",
              "      <td>-92.1</td>\n",
              "      <td>23.334702</td>\n",
              "      <td>0.693147</td>\n",
              "      <td>10.499601</td>\n",
              "      <td>11.595565</td>\n",
              "      <td>12.011079</td>\n",
              "      <td>1.791759</td>\n",
              "      <td>1.791759</td>\n",
              "    </tr>\n",
              "    <tr>\n",
              "      <th>4</th>\n",
              "      <td>0</td>\n",
              "      <td>1</td>\n",
              "      <td>0</td>\n",
              "      <td>0</td>\n",
              "      <td>3</td>\n",
              "      <td>1</td>\n",
              "      <td>0</td>\n",
              "      <td>10</td>\n",
              "      <td>1</td>\n",
              "      <td>14286.10</td>\n",
              "      <td>...</td>\n",
              "      <td>1.202700e+11</td>\n",
              "      <td>27.2</td>\n",
              "      <td>-82.0</td>\n",
              "      <td>9.483915</td>\n",
              "      <td>0.693147</td>\n",
              "      <td>11.130215</td>\n",
              "      <td>10.628884</td>\n",
              "      <td>0.000000</td>\n",
              "      <td>1.386294</td>\n",
              "      <td>1.386294</td>\n",
              "    </tr>\n",
              "  </tbody>\n",
              "</table>\n",
              "<p>5 rows × 46 columns</p>\n",
              "</div>\n",
              "    <div class=\"colab-df-buttons\">\n",
              "\n",
              "  <div class=\"colab-df-container\">\n",
              "    <button class=\"colab-df-convert\" onclick=\"convertToInteractive('df-23434e63-5848-46fd-bc4a-d030ed7bbd71')\"\n",
              "            title=\"Convert this dataframe to an interactive table.\"\n",
              "            style=\"display:none;\">\n",
              "\n",
              "  <svg xmlns=\"http://www.w3.org/2000/svg\" height=\"24px\" viewBox=\"0 -960 960 960\">\n",
              "    <path d=\"M120-120v-720h720v720H120Zm60-500h600v-160H180v160Zm220 220h160v-160H400v160Zm0 220h160v-160H400v160ZM180-400h160v-160H180v160Zm440 0h160v-160H620v160ZM180-180h160v-160H180v160Zm440 0h160v-160H620v160Z\"/>\n",
              "  </svg>\n",
              "    </button>\n",
              "\n",
              "  <style>\n",
              "    .colab-df-container {\n",
              "      display:flex;\n",
              "      gap: 12px;\n",
              "    }\n",
              "\n",
              "    .colab-df-convert {\n",
              "      background-color: #E8F0FE;\n",
              "      border: none;\n",
              "      border-radius: 50%;\n",
              "      cursor: pointer;\n",
              "      display: none;\n",
              "      fill: #1967D2;\n",
              "      height: 32px;\n",
              "      padding: 0 0 0 0;\n",
              "      width: 32px;\n",
              "    }\n",
              "\n",
              "    .colab-df-convert:hover {\n",
              "      background-color: #E2EBFA;\n",
              "      box-shadow: 0px 1px 2px rgba(60, 64, 67, 0.3), 0px 1px 3px 1px rgba(60, 64, 67, 0.15);\n",
              "      fill: #174EA6;\n",
              "    }\n",
              "\n",
              "    .colab-df-buttons div {\n",
              "      margin-bottom: 4px;\n",
              "    }\n",
              "\n",
              "    [theme=dark] .colab-df-convert {\n",
              "      background-color: #3B4455;\n",
              "      fill: #D2E3FC;\n",
              "    }\n",
              "\n",
              "    [theme=dark] .colab-df-convert:hover {\n",
              "      background-color: #434B5C;\n",
              "      box-shadow: 0px 1px 3px 1px rgba(0, 0, 0, 0.15);\n",
              "      filter: drop-shadow(0px 1px 2px rgba(0, 0, 0, 0.3));\n",
              "      fill: #FFFFFF;\n",
              "    }\n",
              "  </style>\n",
              "\n",
              "    <script>\n",
              "      const buttonEl =\n",
              "        document.querySelector('#df-23434e63-5848-46fd-bc4a-d030ed7bbd71 button.colab-df-convert');\n",
              "      buttonEl.style.display =\n",
              "        google.colab.kernel.accessAllowed ? 'block' : 'none';\n",
              "\n",
              "      async function convertToInteractive(key) {\n",
              "        const element = document.querySelector('#df-23434e63-5848-46fd-bc4a-d030ed7bbd71');\n",
              "        const dataTable =\n",
              "          await google.colab.kernel.invokeFunction('convertToInteractive',\n",
              "                                                    [key], {});\n",
              "        if (!dataTable) return;\n",
              "\n",
              "        const docLinkHtml = 'Like what you see? Visit the ' +\n",
              "          '<a target=\"_blank\" href=https://colab.research.google.com/notebooks/data_table.ipynb>data table notebook</a>'\n",
              "          + ' to learn more about interactive tables.';\n",
              "        element.innerHTML = '';\n",
              "        dataTable['output_type'] = 'display_data';\n",
              "        await google.colab.output.renderOutput(dataTable, element);\n",
              "        const docLink = document.createElement('div');\n",
              "        docLink.innerHTML = docLinkHtml;\n",
              "        element.appendChild(docLink);\n",
              "      }\n",
              "    </script>\n",
              "  </div>\n",
              "\n",
              "\n",
              "    <div id=\"df-9d395333-12d9-4599-b738-956e52af1897\">\n",
              "      <button class=\"colab-df-quickchart\" onclick=\"quickchart('df-9d395333-12d9-4599-b738-956e52af1897')\"\n",
              "                title=\"Suggest charts\"\n",
              "                style=\"display:none;\">\n",
              "\n",
              "<svg xmlns=\"http://www.w3.org/2000/svg\" height=\"24px\"viewBox=\"0 0 24 24\"\n",
              "     width=\"24px\">\n",
              "    <g>\n",
              "        <path d=\"M19 3H5c-1.1 0-2 .9-2 2v14c0 1.1.9 2 2 2h14c1.1 0 2-.9 2-2V5c0-1.1-.9-2-2-2zM9 17H7v-7h2v7zm4 0h-2V7h2v10zm4 0h-2v-4h2v4z\"/>\n",
              "    </g>\n",
              "</svg>\n",
              "      </button>\n",
              "\n",
              "<style>\n",
              "  .colab-df-quickchart {\n",
              "      --bg-color: #E8F0FE;\n",
              "      --fill-color: #1967D2;\n",
              "      --hover-bg-color: #E2EBFA;\n",
              "      --hover-fill-color: #174EA6;\n",
              "      --disabled-fill-color: #AAA;\n",
              "      --disabled-bg-color: #DDD;\n",
              "  }\n",
              "\n",
              "  [theme=dark] .colab-df-quickchart {\n",
              "      --bg-color: #3B4455;\n",
              "      --fill-color: #D2E3FC;\n",
              "      --hover-bg-color: #434B5C;\n",
              "      --hover-fill-color: #FFFFFF;\n",
              "      --disabled-bg-color: #3B4455;\n",
              "      --disabled-fill-color: #666;\n",
              "  }\n",
              "\n",
              "  .colab-df-quickchart {\n",
              "    background-color: var(--bg-color);\n",
              "    border: none;\n",
              "    border-radius: 50%;\n",
              "    cursor: pointer;\n",
              "    display: none;\n",
              "    fill: var(--fill-color);\n",
              "    height: 32px;\n",
              "    padding: 0;\n",
              "    width: 32px;\n",
              "  }\n",
              "\n",
              "  .colab-df-quickchart:hover {\n",
              "    background-color: var(--hover-bg-color);\n",
              "    box-shadow: 0 1px 2px rgba(60, 64, 67, 0.3), 0 1px 3px 1px rgba(60, 64, 67, 0.15);\n",
              "    fill: var(--button-hover-fill-color);\n",
              "  }\n",
              "\n",
              "  .colab-df-quickchart-complete:disabled,\n",
              "  .colab-df-quickchart-complete:disabled:hover {\n",
              "    background-color: var(--disabled-bg-color);\n",
              "    fill: var(--disabled-fill-color);\n",
              "    box-shadow: none;\n",
              "  }\n",
              "\n",
              "  .colab-df-spinner {\n",
              "    border: 2px solid var(--fill-color);\n",
              "    border-color: transparent;\n",
              "    border-bottom-color: var(--fill-color);\n",
              "    animation:\n",
              "      spin 1s steps(1) infinite;\n",
              "  }\n",
              "\n",
              "  @keyframes spin {\n",
              "    0% {\n",
              "      border-color: transparent;\n",
              "      border-bottom-color: var(--fill-color);\n",
              "      border-left-color: var(--fill-color);\n",
              "    }\n",
              "    20% {\n",
              "      border-color: transparent;\n",
              "      border-left-color: var(--fill-color);\n",
              "      border-top-color: var(--fill-color);\n",
              "    }\n",
              "    30% {\n",
              "      border-color: transparent;\n",
              "      border-left-color: var(--fill-color);\n",
              "      border-top-color: var(--fill-color);\n",
              "      border-right-color: var(--fill-color);\n",
              "    }\n",
              "    40% {\n",
              "      border-color: transparent;\n",
              "      border-right-color: var(--fill-color);\n",
              "      border-top-color: var(--fill-color);\n",
              "    }\n",
              "    60% {\n",
              "      border-color: transparent;\n",
              "      border-right-color: var(--fill-color);\n",
              "    }\n",
              "    80% {\n",
              "      border-color: transparent;\n",
              "      border-right-color: var(--fill-color);\n",
              "      border-bottom-color: var(--fill-color);\n",
              "    }\n",
              "    90% {\n",
              "      border-color: transparent;\n",
              "      border-bottom-color: var(--fill-color);\n",
              "    }\n",
              "  }\n",
              "</style>\n",
              "\n",
              "      <script>\n",
              "        async function quickchart(key) {\n",
              "          const quickchartButtonEl =\n",
              "            document.querySelector('#' + key + ' button');\n",
              "          quickchartButtonEl.disabled = true;  // To prevent multiple clicks.\n",
              "          quickchartButtonEl.classList.add('colab-df-spinner');\n",
              "          try {\n",
              "            const charts = await google.colab.kernel.invokeFunction(\n",
              "                'suggestCharts', [key], {});\n",
              "          } catch (error) {\n",
              "            console.error('Error during call to suggestCharts:', error);\n",
              "          }\n",
              "          quickchartButtonEl.classList.remove('colab-df-spinner');\n",
              "          quickchartButtonEl.classList.add('colab-df-quickchart-complete');\n",
              "        }\n",
              "        (() => {\n",
              "          let quickchartButtonEl =\n",
              "            document.querySelector('#df-9d395333-12d9-4599-b738-956e52af1897 button');\n",
              "          quickchartButtonEl.style.display =\n",
              "            google.colab.kernel.accessAllowed ? 'block' : 'none';\n",
              "        })();\n",
              "      </script>\n",
              "    </div>\n",
              "\n",
              "    </div>\n",
              "  </div>\n"
            ],
            "application/vnd.google.colaboratory.intrinsic+json": {
              "type": "dataframe"
            }
          },
          "metadata": {}
        }
      ]
    },
    {
      "cell_type": "code",
      "metadata": {
        "colab": {
          "base_uri": "https://localhost:8080/"
        },
        "id": "f0c173e1",
        "outputId": "a102d94a-24d5-4406-b352-b850205e29de"
      },
      "source": [
        "import statsmodels.api as sm\n",
        "\n",
        "# Define the independent variables (X) and the dependent variable (y)\n",
        "X_cols = [  'logpolicyCount',\n",
        " 'postFIRMConstructionIndicator',\n",
        " 'smallBusinessIndicatorBuilding',\n",
        " 'logtotalBuildingInsuranceCoverage',\n",
        " 'totalContentsInsuranceCoverage',\n",
        "#  'yearOfLoss',\n",
        " 'primaryResidenceIndicator',\n",
        " 'buildingDamageAmount',\n",
        "#  'logbuildingPropertyValue',\n",
        " 'iccCoverage',\n",
        " 'logbuildingReplacementCost',\n",
        " 'signedLogWwaterDepth',\n",
        " 'rentalPropertyIndicator',\n",
        "#  'BuildingAge',\n",
        "]\n",
        "\n",
        "y = df['amountPaidOnBuildingClaim']\n",
        "X = df[X_cols]\n",
        "\n",
        "# Add a constant to the independent variables\n",
        "X = sm.add_constant(X)\n",
        "\n",
        "# Fit the OLS model\n",
        "model = sm.OLS(y, X).fit()\n",
        "\n",
        "# Print the OLS summary\n",
        "print(model.summary())"
      ],
      "execution_count": null,
      "outputs": [
        {
          "output_type": "stream",
          "name": "stdout",
          "text": [
            "                                OLS Regression Results                               \n",
            "=====================================================================================\n",
            "Dep. Variable:     amountPaidOnBuildingClaim   R-squared:                       0.871\n",
            "Model:                                   OLS   Adj. R-squared:                  0.871\n",
            "Method:                        Least Squares   F-statistic:                 1.493e+05\n",
            "Date:                       Thu, 19 Jun 2025   Prob (F-statistic):               0.00\n",
            "Time:                               12:34:20   Log-Likelihood:            -2.7335e+06\n",
            "No. Observations:                     243498   AIC:                         5.467e+06\n",
            "Df Residuals:                         243486   BIC:                         5.467e+06\n",
            "Df Model:                                 11                                         \n",
            "Covariance Type:                   nonrobust                                         \n",
            "=====================================================================================================\n",
            "                                        coef    std err          t      P>|t|      [0.025      0.975]\n",
            "-----------------------------------------------------------------------------------------------------\n",
            "const                             -3.882e+04    594.403    -65.310      0.000      -4e+04   -3.77e+04\n",
            "logpolicyCount                     2491.4101    230.860     10.792      0.000    2038.930    2943.891\n",
            "postFIRMConstructionIndicator      -961.6082     79.921    -12.032      0.000   -1118.250    -804.966\n",
            "smallBusinessIndicatorBuilding     3771.7988   1538.133      2.452      0.014     757.099    6786.498\n",
            "logtotalBuildingInsuranceCoverage  3228.2469     55.569     58.094      0.000    3119.333    3337.161\n",
            "totalContentsInsuranceCoverage        0.0127      0.001     12.748      0.000       0.011       0.015\n",
            "primaryResidenceIndicator           869.7209     82.596     10.530      0.000     707.836    1031.606\n",
            "buildingDamageAmount                  0.7847      0.001   1123.549      0.000       0.783       0.786\n",
            "iccCoverage                          -0.0045      0.008     -0.554      0.580      -0.020       0.011\n",
            "logbuildingReplacementCost          209.4131      9.705     21.577      0.000     190.391     228.435\n",
            "signedLogWwaterDepth                845.0065     33.168     25.477      0.000     779.998     910.015\n",
            "rentalPropertyIndicator            -397.3190    723.179     -0.549      0.583   -1814.730    1020.093\n",
            "==============================================================================\n",
            "Omnibus:                   528124.293   Durbin-Watson:                   1.998\n",
            "Prob(Omnibus):                  0.000   Jarque-Bera (JB):      11887075119.401\n",
            "Skew:                         -18.956   Prob(JB):                         0.00\n",
            "Kurtosis:                    1084.755   Cond. No.                     3.50e+06\n",
            "==============================================================================\n",
            "\n",
            "Notes:\n",
            "[1] Standard Errors assume that the covariance matrix of the errors is correctly specified.\n",
            "[2] The condition number is large, 3.5e+06. This might indicate that there are\n",
            "strong multicollinearity or other numerical problems.\n"
          ]
        }
      ]
    },
    {
      "cell_type": "code",
      "metadata": {
        "colab": {
          "base_uri": "https://localhost:8080/"
        },
        "id": "f06a6fa0",
        "outputId": "c532d397-2aa1-44f8-bf5d-77be2329561a"
      },
      "source": [
        "# Perform the Ramsey RESET test\n",
        "reset_test = sm.stats.diagnostic.linear_reset(model)\n",
        "\n",
        "# Print the test results\n",
        "print(reset_test)"
      ],
      "execution_count": null,
      "outputs": [
        {
          "output_type": "stream",
          "name": "stdout",
          "text": [
            "<Wald test (chi2): statistic=75238.11315022569, p-value=0.0, df_denom=2>\n"
          ]
        }
      ]
    },
    {
      "cell_type": "markdown",
      "source": [
        "## First IV combination"
      ],
      "metadata": {
        "id": "A3bJ-vmKLVqq"
      }
    },
    {
      "cell_type": "code",
      "source": [],
      "metadata": {
        "id": "5S2_xXhj5Kcl"
      },
      "execution_count": null,
      "outputs": []
    },
    {
      "cell_type": "markdown",
      "source": [],
      "metadata": {
        "id": "7Cvi5eoT5KRQ"
      }
    },
    {
      "cell_type": "code",
      "metadata": {
        "colab": {
          "base_uri": "https://localhost:8080/"
        },
        "id": "d154821c",
        "outputId": "4e0a88d0-7a0a-4f66-b2bd-395beeb4a0fc"
      },
      "source": [
        "from linearmodels.iv import IV2SLS\n",
        "import statsmodels.api as sm\n",
        "\n",
        "# Define the endogenous variable, instrumental variables, and other exogenous variables\n",
        "endog = df['amountPaidOnBuildingClaim']\n",
        "exog = sm.add_constant(df[['logpolicyCount',\n",
        "                           'postFIRMConstructionIndicator',\n",
        "                           'totalContentsInsuranceCoverage',\n",
        "                           'primaryResidenceIndicator',\n",
        "                           'buildingDamageAmount',\n",
        "                           'logbuildingPropertyValue',\n",
        "                           'iccCoverage',\n",
        "                           'logbuildingReplacementCost',\n",
        "                           'signedLogWwaterDepth',\n",
        "                           'rentalPropertyIndicator',\n",
        "                           'BuildingAge']])\n",
        "# Exogenous variables which are also included in the original regression\n",
        "endog_variable = df['logtotalBuildingInsuranceCoverage']\n",
        "instrumental_variables = df[['smallBusinessIndicatorBuilding', 'yearOfLoss']]\n",
        "\n",
        "# Fit the 2SLS model\n",
        "tsls_model = IV2SLS(endog, exog, endog_variable, instrumental_variables).fit(cov_type='unadjusted')\n",
        "\n",
        "# Print the 2SLS summary\n",
        "print(tsls_model.summary)\n",
        "\n",
        "# Perform the Wu-Hausman test\n",
        "hausman_test = tsls_model.wu_hausman()\n",
        "\n",
        "# Print the test results\n",
        "print(hausman_test)\n",
        "\n",
        "hansen_j = tsls_model.sargan\n",
        "print(\"\\nHansen J Test (Sargan Test):\")\n",
        "print(hansen_j)"
      ],
      "execution_count": null,
      "outputs": [
        {
          "output_type": "stream",
          "name": "stdout",
          "text": [
            "                              IV-2SLS Estimation Summary                             \n",
            "=====================================================================================\n",
            "Dep. Variable:     amountPaidOnBuildingClaim   R-squared:                      0.5217\n",
            "Estimator:                           IV-2SLS   Adj. R-squared:                 0.5217\n",
            "No. Observations:                     243498   F-statistic:                 4.426e+05\n",
            "Date:                       Thu, Jun 19 2025   P-value (F-stat)                0.0000\n",
            "Time:                               16:17:20   Distribution:                 chi2(12)\n",
            "Cov. Estimator:                   unadjusted                                         \n",
            "                                                                                     \n",
            "                                         Parameter Estimates                                         \n",
            "=====================================================================================================\n",
            "                                   Parameter  Std. Err.     T-stat    P-value    Lower CI    Upper CI\n",
            "-----------------------------------------------------------------------------------------------------\n",
            "const                             -3.032e+05  3.381e+04    -8.9671     0.0000  -3.695e+05  -2.369e+05\n",
            "logpolicyCount                    -3.518e+04     4777.7    -7.3625     0.0000  -4.454e+04  -2.581e+04\n",
            "postFIRMConstructionIndicator        -8201.3     1043.5    -7.8597     0.0000  -1.025e+04     -6156.1\n",
            "totalContentsInsuranceCoverage       -0.2321     0.0310    -7.4931     0.0000     -0.2928     -0.1714\n",
            "primaryResidenceIndicator             688.42     159.39     4.3190     0.0000      376.02      1000.8\n",
            "buildingDamageAmount                  0.8144     0.0035     232.81     0.0000      0.8075      0.8212\n",
            "logbuildingPropertyValue          -2.164e+04     2509.5    -8.6250     0.0000  -2.656e+04  -1.673e+04\n",
            "iccCoverage                          -1.3659     0.1656    -8.2480     0.0000     -1.6904     -1.0413\n",
            "logbuildingReplacementCost            524.91     41.037     12.791     0.0000      444.48      605.34\n",
            "signedLogWwaterDepth                  2332.9     192.66     12.109     0.0000      1955.3      2710.6\n",
            "rentalPropertyIndicator              -269.26     1392.3    -0.1934     0.8467     -2998.1      2459.6\n",
            "BuildingAge                          -74.797     13.817    -5.4134     0.0000     -101.88     -47.717\n",
            "logtotalBuildingInsuranceCoverage  5.334e+04     6141.4     8.6860     0.0000   4.131e+04   6.538e+04\n",
            "=====================================================================================================\n",
            "\n",
            "Endogenous: logtotalBuildingInsuranceCoverage\n",
            "Instruments: smallBusinessIndicatorBuilding, yearOfLoss\n",
            "Unadjusted Covariance (Homoskedastic)\n",
            "Debiased: False\n",
            "Wu-Hausman test of exogeneity\n",
            "H0: All endogenous variables are exogenous\n",
            "Statistic: 1546.4173\n",
            "P-value: 0.0000\n",
            "Distributed: F(1,243484)\n",
            "\n",
            "Hansen J Test (Sargan Test):\n",
            "Sargan's test of overidentification\n",
            "H0: The model is not overidentified.\n",
            "Statistic: 423.6481\n",
            "P-value: 0.0000\n",
            "Distributed: chi2(1)\n"
          ]
        }
      ]
    },
    {
      "cell_type": "markdown",
      "source": [
        "The Hansen J test for overidentification yields a test statistic of 423.64 (p-value ~ 0.000). Thus, we reject the null hypothesis of instrument exogeneity. Rejecting the null hypothesis means that there is strong statistical evidence to suggest that at least one of instrumental variables is not valid. In other words, it is likely correlated with the error term in your structural equation."
      ],
      "metadata": {
        "id": "DtrZf7OHUTw7"
      }
    },
    {
      "cell_type": "markdown",
      "source": [
        "## Second IV Combination"
      ],
      "metadata": {
        "id": "maomsnDJLagN"
      }
    },
    {
      "cell_type": "code",
      "source": [
        "from linearmodels.iv import IV2SLS\n",
        "import statsmodels.api as sm\n",
        "\n",
        "# Define the endogenous variable, instrumental variables, and other exogenous variables\n",
        "endog = df['amountPaidOnBuildingClaim']\n",
        "# Remove 'logbuildingPropertyValue' from exog when it's the endogenous variable\n",
        "exog_cols = ['logpolicyCount',\n",
        "             'postFIRMConstructionIndicator',\n",
        "             'totalContentsInsuranceCoverage',\n",
        "             'primaryResidenceIndicator',\n",
        "             'buildingDamageAmount',\n",
        "             'iccCoverage',\n",
        "             'logbuildingReplacementCost',\n",
        "             'signedLogWwaterDepth',\n",
        "             'rentalPropertyIndicator',\n",
        "             ]\n",
        "exog = sm.add_constant(df[exog_cols])\n",
        "\n",
        "endog_variable = df['logbuildingPropertyValue']\n",
        "instrumental_variables = df[['BuildingAge', 'yearOfLoss']]\n",
        "\n",
        "# Fit the 2SLS model\n",
        "tsls_model = IV2SLS(endog, exog, endog_variable, instrumental_variables).fit()\n",
        "\n",
        "# Print the 2SLS summary\n",
        "print(tsls_model.summary)\n",
        "\n",
        "# Perform the Wu-Hausman test\n",
        "hausman_test = tsls_model.wu_hausman()\n",
        "\n",
        "# Print the test results\n",
        "print(hausman_test)"
      ],
      "metadata": {
        "colab": {
          "base_uri": "https://localhost:8080/"
        },
        "id": "1ikJKcgizBH4",
        "outputId": "71488542-d89f-4dcb-c98e-a7b03791f330"
      },
      "execution_count": null,
      "outputs": [
        {
          "output_type": "stream",
          "name": "stdout",
          "text": [
            "                              IV-2SLS Estimation Summary                             \n",
            "=====================================================================================\n",
            "Dep. Variable:     amountPaidOnBuildingClaim   R-squared:                      0.8009\n",
            "Estimator:                           IV-2SLS   Adj. R-squared:                 0.8009\n",
            "No. Observations:                     243498   F-statistic:                 1.722e+05\n",
            "Date:                       Thu, Jun 19 2025   P-value (F-stat)                0.0000\n",
            "Time:                               12:34:46   Distribution:                 chi2(10)\n",
            "Cov. Estimator:                       robust                                         \n",
            "                                                                                     \n",
            "                                       Parameter Estimates                                        \n",
            "==================================================================================================\n",
            "                                Parameter  Std. Err.     T-stat    P-value    Lower CI    Upper CI\n",
            "--------------------------------------------------------------------------------------------------\n",
            "const                          -2.127e+05     6624.4    -32.102     0.0000  -2.256e+05  -1.997e+05\n",
            "logpolicyCount                 -1.223e+04     1021.8    -11.972     0.0000  -1.424e+04  -1.023e+04\n",
            "postFIRMConstructionIndicator     -4306.2     186.35    -23.108     0.0000     -4671.5     -3941.0\n",
            "totalContentsInsuranceCoverage    -0.0860     0.0046    -18.546     0.0000     -0.0951     -0.0769\n",
            "primaryResidenceIndicator          3290.1     148.30     22.185     0.0000      2999.4      3580.8\n",
            "buildingDamageAmount               0.7242     0.0109     66.343     0.0000      0.7028      0.7456\n",
            "iccCoverage                        0.1280     0.0149     8.6017     0.0000      0.0988      0.1571\n",
            "logbuildingReplacementCost        -487.35     34.278    -14.218     0.0000     -554.54     -420.17\n",
            "signedLogWwaterDepth               527.81     149.90     3.5212     0.0004      234.02      821.60\n",
            "rentalPropertyIndicator           -1932.3     802.03    -2.4092     0.0160     -3504.2     -360.31\n",
            "logbuildingPropertyValue        2.002e+04     636.38     31.452     0.0000   1.877e+04   2.126e+04\n",
            "==================================================================================================\n",
            "\n",
            "Endogenous: logbuildingPropertyValue\n",
            "Instruments: BuildingAge, yearOfLoss\n",
            "Robust Covariance (Heteroskedastic)\n",
            "Debiased: False\n",
            "Wu-Hausman test of exogeneity\n",
            "H0: All endogenous variables are exogenous\n",
            "Statistic: 2083.1074\n",
            "P-value: 0.0000\n",
            "Distributed: F(1,243486)\n"
          ]
        }
      ]
    },
    {
      "cell_type": "markdown",
      "source": [
        "We used a two-stage least squares (2SLS) regression to estimate the effect of logbuildingPropertyValue on amountPaidOnBuildingClaim, using BuildingAge and yearOfLoss as instrumental variables. The Wu-Hausman test statistic was 2053.1074 (p < 0.001), strongly rejecting the null hypothesis of exogeneity. This confirms that logbuildingPropertyValue is endogenous in our setting, and that OLS estimates would be inconsistent. Therefore, IV/2SLS results are required for unbiased inference."
      ],
      "metadata": {
        "id": "GtwWEMbSMUB0"
      }
    },
    {
      "cell_type": "markdown",
      "source": [
        "## Weak Instrument Test"
      ],
      "metadata": {
        "id": "FwzG_T66LgMA"
      }
    },
    {
      "cell_type": "code",
      "source": [
        "# Print first-stage summary (for F-statistic)\n",
        "print(tsls_model.first_stage)\n"
      ],
      "metadata": {
        "colab": {
          "base_uri": "https://localhost:8080/"
        },
        "id": "7k2hKOSk4IZE",
        "outputId": "79f6f19e-7468-43fe-8462-2eceaae420ef"
      },
      "execution_count": null,
      "outputs": [
        {
          "output_type": "stream",
          "name": "stdout",
          "text": [
            "              First Stage Estimation Results             \n",
            "=========================================================\n",
            "                                 logbuildingPropertyValue\n",
            "---------------------------------------------------------\n",
            "R-squared                                          0.3468\n",
            "Partial R-squared                                  0.0160\n",
            "Shea's R-squared                                   0.0160\n",
            "Partial F-statistic                                2445.4\n",
            "P-value (Partial F-stat)                           0.0000\n",
            "Partial F-stat Distn                              chi2(2)\n",
            "================================             ============\n",
            "const                                             -25.651\n",
            "                                                (-32.924)\n",
            "logpolicyCount                                     0.9448\n",
            "                                                 (68.579)\n",
            "postFIRMConstructionIndicator                      0.2077\n",
            "                                                 (51.824)\n",
            "totalContentsInsuranceCoverage                  6.111e-06\n",
            "                                                 (108.78)\n",
            "primaryResidenceIndicator                         -0.1136\n",
            "                                                (-35.413)\n",
            "buildingDamageAmount                            3.199e-06\n",
            "                                                 (74.927)\n",
            "iccCoverage                                    -1.144e-05\n",
            "                                                (-31.697)\n",
            "logbuildingReplacementCost                         0.0213\n",
            "                                                 (31.569)\n",
            "signedLogWwaterDepth                               0.0021\n",
            "                                                 (1.6839)\n",
            "rentalPropertyIndicator                           -0.0570\n",
            "                                                (-1.7787)\n",
            "BuildingAge                                        0.0006\n",
            "                                                 (6.5127)\n",
            "yearOfLoss                                         0.0181\n",
            "                                                 (46.055)\n",
            "---------------------------------------------------------\n",
            "\n",
            "T-stats reported in parentheses\n",
            "T-stats use same covariance type as original model\n"
          ]
        }
      ]
    },
    {
      "cell_type": "markdown",
      "source": [
        "The first-stage regression for logbuildingPropertyValue yields a partial F-statistic of 2445.4 (p < 0.001), far exceeding the conventional threshold of 10. This confirms that the instruments (BuildingAge, yearOfLoss) are highly relevant and not weak. Thus, you can be confident in the strength of your instruments for the IV/2SLS estimation."
      ],
      "metadata": {
        "id": "0rDDtrOANj_A"
      }
    },
    {
      "cell_type": "code",
      "source": [
        "hansen_j = tsls_model.sargan\n",
        "print(\"\\nHansen J Test (Sargan Test):\")\n",
        "print(hansen_j)"
      ],
      "metadata": {
        "colab": {
          "base_uri": "https://localhost:8080/"
        },
        "id": "YpbzLXOELMqs",
        "outputId": "f54bcde0-bc5b-43a1-84a7-63daf7729ee3"
      },
      "execution_count": null,
      "outputs": [
        {
          "output_type": "stream",
          "name": "stdout",
          "text": [
            "\n",
            "Hansen J Test (Sargan Test):\n",
            "Sargan's test of overidentification\n",
            "H0: The model is not overidentified.\n",
            "Statistic: 0.7646\n",
            "P-value: 0.3819\n",
            "Distributed: chi2(1)\n"
          ]
        }
      ]
    },
    {
      "cell_type": "markdown",
      "source": [
        "The Hansen J test for overidentification yields a test statistic of 0.76 (p-value = 0.38). Thus, we fail to reject the null hypothesis of instrument exogeneity, supporting the validity of the instruments used in the IV estimation."
      ],
      "metadata": {
        "id": "4TquhHjZMJKt"
      }
    }
  ]
}