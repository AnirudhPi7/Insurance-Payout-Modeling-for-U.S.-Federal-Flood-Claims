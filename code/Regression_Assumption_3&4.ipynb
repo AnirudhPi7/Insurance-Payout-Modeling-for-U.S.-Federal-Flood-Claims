{
  "nbformat": 4,
  "nbformat_minor": 0,
  "metadata": {
    "colab": {
      "provenance": []
    },
    "kernelspec": {
      "name": "python3",
      "display_name": "Python 3"
    },
    "language_info": {
      "name": "python"
    }
  },
  "cells": [
    {
      "cell_type": "code",
      "metadata": {
        "colab": {
          "base_uri": "https://localhost:8080/"
        },
        "id": "e1705e05",
        "outputId": "429bf22e-b3a9-4821-b640-6be19976f65f",
        "collapsed": true
      },
      "source": [
        "%pip install linearmodels"
      ],
      "execution_count": 1,
      "outputs": [
        {
          "output_type": "stream",
          "name": "stdout",
          "text": [
            "Requirement already satisfied: linearmodels in /usr/local/lib/python3.11/dist-packages (6.1)\n",
            "Requirement already satisfied: numpy<3,>=1.22.3 in /usr/local/lib/python3.11/dist-packages (from linearmodels) (2.0.2)\n",
            "Requirement already satisfied: pandas>=1.4.0 in /usr/local/lib/python3.11/dist-packages (from linearmodels) (2.2.2)\n",
            "Requirement already satisfied: scipy>=1.8.0 in /usr/local/lib/python3.11/dist-packages (from linearmodels) (1.15.3)\n",
            "Requirement already satisfied: statsmodels>=0.13.0 in /usr/local/lib/python3.11/dist-packages (from linearmodels) (0.14.4)\n",
            "Requirement already satisfied: mypy-extensions>=0.4 in /usr/local/lib/python3.11/dist-packages (from linearmodels) (1.1.0)\n",
            "Requirement already satisfied: Cython>=3.0.10 in /usr/local/lib/python3.11/dist-packages (from linearmodels) (3.0.12)\n",
            "Requirement already satisfied: pyhdfe>=0.1 in /usr/local/lib/python3.11/dist-packages (from linearmodels) (0.2.0)\n",
            "Requirement already satisfied: formulaic>=1.0.0 in /usr/local/lib/python3.11/dist-packages (from linearmodels) (1.1.1)\n",
            "Requirement already satisfied: setuptools-scm<9.0.0,>=8.0.0 in /usr/local/lib/python3.11/dist-packages (from setuptools-scm[toml]<9.0.0,>=8.0.0->linearmodels) (8.3.1)\n",
            "Requirement already satisfied: interface-meta>=1.2.0 in /usr/local/lib/python3.11/dist-packages (from formulaic>=1.0.0->linearmodels) (1.3.0)\n",
            "Requirement already satisfied: typing-extensions>=4.2.0 in /usr/local/lib/python3.11/dist-packages (from formulaic>=1.0.0->linearmodels) (4.14.0)\n",
            "Requirement already satisfied: wrapt>=1.0 in /usr/local/lib/python3.11/dist-packages (from formulaic>=1.0.0->linearmodels) (1.17.2)\n",
            "Requirement already satisfied: python-dateutil>=2.8.2 in /usr/local/lib/python3.11/dist-packages (from pandas>=1.4.0->linearmodels) (2.9.0.post0)\n",
            "Requirement already satisfied: pytz>=2020.1 in /usr/local/lib/python3.11/dist-packages (from pandas>=1.4.0->linearmodels) (2025.2)\n",
            "Requirement already satisfied: tzdata>=2022.7 in /usr/local/lib/python3.11/dist-packages (from pandas>=1.4.0->linearmodels) (2025.2)\n",
            "Requirement already satisfied: packaging>=20 in /usr/local/lib/python3.11/dist-packages (from setuptools-scm<9.0.0,>=8.0.0->setuptools-scm[toml]<9.0.0,>=8.0.0->linearmodels) (24.2)\n",
            "Requirement already satisfied: setuptools in /usr/local/lib/python3.11/dist-packages (from setuptools-scm<9.0.0,>=8.0.0->setuptools-scm[toml]<9.0.0,>=8.0.0->linearmodels) (75.2.0)\n",
            "Requirement already satisfied: patsy>=0.5.6 in /usr/local/lib/python3.11/dist-packages (from statsmodels>=0.13.0->linearmodels) (1.0.1)\n",
            "Requirement already satisfied: six>=1.5 in /usr/local/lib/python3.11/dist-packages (from python-dateutil>=2.8.2->pandas>=1.4.0->linearmodels) (1.17.0)\n"
          ]
        }
      ]
    },
    {
      "cell_type": "code",
      "source": [
        "import pandas as pd\n",
        "df = pd.read_csv('/content/final1.csv')"
      ],
      "metadata": {
        "id": "M40Lj5GjLJQ5"
      },
      "execution_count": 2,
      "outputs": []
    },
    {
      "cell_type": "code",
      "source": [
        "df.shape"
      ],
      "metadata": {
        "colab": {
          "base_uri": "https://localhost:8080/"
        },
        "id": "JEw87bZuN92D",
        "outputId": "f8679013-3ee0-46f3-c062-ec43ebd343b2"
      },
      "execution_count": 3,
      "outputs": [
        {
          "output_type": "execute_result",
          "data": {
            "text/plain": [
              "(243692, 41)"
            ]
          },
          "metadata": {},
          "execution_count": 3
        }
      ]
    },
    {
      "cell_type": "code",
      "source": [
        "df = df[df['amountPaidOnBuildingClaim']<1500000]\n",
        "df = df[df['buildingDamageAmount']<2000000]\n",
        "df = df[df['BuildingAge']<150]\n",
        "df = df[df['amountPaidOnIncreasedCostOfComplianceClaim']<32000]\n",
        "df = df[df['buildingPropertyValue']!=0]"
      ],
      "metadata": {
        "id": "JyvaZ5qBoT4A"
      },
      "execution_count": 4,
      "outputs": []
    },
    {
      "cell_type": "code",
      "metadata": {
        "colab": {
          "base_uri": "https://localhost:8080/",
          "height": 637
        },
        "id": "8eae59c7",
        "outputId": "7d304c7a-8527-40e7-fe80-c2aa0f2a6331"
      },
      "source": [
        "import numpy as np\n",
        "\n",
        "# Check the available columns in the dataframe\n",
        "print(df.columns)\n",
        "\n",
        "log_transform_cols = [\n",
        "    'policyCount',\n",
        "    'totalBuildingInsuranceCoverage',\n",
        "    'buildingPropertyValue',\n",
        "    'buildingReplacementCost', # Corrected column name\n",
        "    'waterDepth',\n",
        "]\n",
        "\n",
        "for col in log_transform_cols:\n",
        "    # Add a small constant to handle zero values before taking the log\n",
        "    df['log' + col] = np.log(df[col] + 1)\n",
        "\n",
        "# For waterDepth, use signed log transformation as it can be negative\n",
        "df['signedLogWwaterDepth'] = np.sign(df['waterDepth']) * np.log(np.abs(df['waterDepth']) + 1)\n",
        "\n",
        "display(df.head())"
      ],
      "execution_count": 5,
      "outputs": [
        {
          "output_type": "stream",
          "name": "stdout",
          "text": [
            "Index(['Unnamed: 0', 'agricultureStructureIndicator', 'policyCount',\n",
            "       'elevatedBuildingIndicator', 'houseWorship', 'locationOfContents',\n",
            "       'numberOfFloorsInTheInsuredBuilding', 'nonProfitIndicator',\n",
            "       'obstructionType', 'occupancyType', 'amountPaidOnBuildingClaim',\n",
            "       'amountPaidOnContentsClaim',\n",
            "       'amountPaidOnIncreasedCostOfComplianceClaim',\n",
            "       'postFIRMConstructionIndicator', 'smallBusinessIndicatorBuilding',\n",
            "       'totalBuildingInsuranceCoverage', 'totalContentsInsuranceCoverage',\n",
            "       'yearOfLoss', 'primaryResidenceIndicator', 'buildingDamageAmount',\n",
            "       'buildingPropertyValue', 'disasterAssistanceCoverageRequired',\n",
            "       'ficoNumber', 'floodWaterDuration', 'floodproofedIndicator',\n",
            "       'iccCoverage', 'netIccPaymentAmount', 'nfipRatedCommunityNumber',\n",
            "       'numberOfUnits', 'buildingReplacementCost', 'replacementCostBasis',\n",
            "       'stateOwnedIndicator', 'waterDepth', 'rentalPropertyIndicator',\n",
            "       'reportedZipCode', 'countyCode', 'censusTract', 'censusBlockGroupFips',\n",
            "       'latitude', 'longitude', 'BuildingAge'],\n",
            "      dtype='object')\n"
          ]
        },
        {
          "output_type": "stream",
          "name": "stderr",
          "text": [
            "/usr/local/lib/python3.11/dist-packages/pandas/core/arraylike.py:399: RuntimeWarning: divide by zero encountered in log\n",
            "  result = getattr(ufunc, method)(*inputs, **kwargs)\n",
            "/usr/local/lib/python3.11/dist-packages/pandas/core/arraylike.py:399: RuntimeWarning: invalid value encountered in log\n",
            "  result = getattr(ufunc, method)(*inputs, **kwargs)\n"
          ]
        },
        {
          "output_type": "display_data",
          "data": {
            "text/plain": [
              "   Unnamed: 0  agricultureStructureIndicator  policyCount  \\\n",
              "0           3                              0            1   \n",
              "1           5                              0            1   \n",
              "2          41                              0            1   \n",
              "3          53                              0            1   \n",
              "4          62                              0            1   \n",
              "\n",
              "   elevatedBuildingIndicator  houseWorship  locationOfContents  \\\n",
              "0                          1             0                 3.0   \n",
              "1                          0             0                 4.0   \n",
              "2                          0             0                 4.0   \n",
              "3                          1             0                 3.0   \n",
              "4                          0             0                 3.0   \n",
              "\n",
              "   numberOfFloorsInTheInsuredBuilding  nonProfitIndicator  obstructionType  \\\n",
              "0                                 1.0                   0             10.0   \n",
              "1                                 2.0                   0             10.0   \n",
              "2                                 2.0                   0             10.0   \n",
              "3                                 1.0                   0             10.0   \n",
              "4                                 1.0                   0             10.0   \n",
              "\n",
              "   occupancyType  ...  censusBlockGroupFips  latitude  longitude  BuildingAge  \\\n",
              "0            1.0  ...          4.820122e+11      29.9      -95.4    39.649555   \n",
              "1            2.0  ...          3.712901e+11      34.1      -77.9    28.153320   \n",
              "2            1.0  ...          3.403115e+11      40.9      -74.2    36.254620   \n",
              "3            4.0  ...          2.211395e+11      29.9      -92.1    23.334702   \n",
              "4            1.0  ...          1.202701e+11      27.2      -82.0     9.483915   \n",
              "\n",
              "   logpolicyCount  logtotalBuildingInsuranceCoverage  \\\n",
              "0        0.693147                          12.429220   \n",
              "1        0.693147                          11.480413   \n",
              "2        0.693147                          10.755794   \n",
              "3        0.693147                          10.499601   \n",
              "4        0.693147                          11.130215   \n",
              "\n",
              "   logbuildingPropertyValue  logbuildingReplacementCost  logwaterDepth  \\\n",
              "0                 11.637741                   11.719753       0.693147   \n",
              "1                 11.508546                   11.647815       0.000000   \n",
              "2                 11.429413                   11.627860       0.693147   \n",
              "3                 11.595565                   12.011079       1.791759   \n",
              "4                 10.628884                    0.000000       1.386294   \n",
              "\n",
              "   signedLogWwaterDepth  \n",
              "0              0.693147  \n",
              "1              0.000000  \n",
              "2              0.693147  \n",
              "3              1.791759  \n",
              "4              1.386294  \n",
              "\n",
              "[5 rows x 47 columns]"
            ],
            "text/html": [
              "\n",
              "  <div id=\"df-37be578d-2c3a-44a4-a455-0dfd54d90089\" class=\"colab-df-container\">\n",
              "    <div>\n",
              "<style scoped>\n",
              "    .dataframe tbody tr th:only-of-type {\n",
              "        vertical-align: middle;\n",
              "    }\n",
              "\n",
              "    .dataframe tbody tr th {\n",
              "        vertical-align: top;\n",
              "    }\n",
              "\n",
              "    .dataframe thead th {\n",
              "        text-align: right;\n",
              "    }\n",
              "</style>\n",
              "<table border=\"1\" class=\"dataframe\">\n",
              "  <thead>\n",
              "    <tr style=\"text-align: right;\">\n",
              "      <th></th>\n",
              "      <th>Unnamed: 0</th>\n",
              "      <th>agricultureStructureIndicator</th>\n",
              "      <th>policyCount</th>\n",
              "      <th>elevatedBuildingIndicator</th>\n",
              "      <th>houseWorship</th>\n",
              "      <th>locationOfContents</th>\n",
              "      <th>numberOfFloorsInTheInsuredBuilding</th>\n",
              "      <th>nonProfitIndicator</th>\n",
              "      <th>obstructionType</th>\n",
              "      <th>occupancyType</th>\n",
              "      <th>...</th>\n",
              "      <th>censusBlockGroupFips</th>\n",
              "      <th>latitude</th>\n",
              "      <th>longitude</th>\n",
              "      <th>BuildingAge</th>\n",
              "      <th>logpolicyCount</th>\n",
              "      <th>logtotalBuildingInsuranceCoverage</th>\n",
              "      <th>logbuildingPropertyValue</th>\n",
              "      <th>logbuildingReplacementCost</th>\n",
              "      <th>logwaterDepth</th>\n",
              "      <th>signedLogWwaterDepth</th>\n",
              "    </tr>\n",
              "  </thead>\n",
              "  <tbody>\n",
              "    <tr>\n",
              "      <th>0</th>\n",
              "      <td>3</td>\n",
              "      <td>0</td>\n",
              "      <td>1</td>\n",
              "      <td>1</td>\n",
              "      <td>0</td>\n",
              "      <td>3.0</td>\n",
              "      <td>1.0</td>\n",
              "      <td>0</td>\n",
              "      <td>10.0</td>\n",
              "      <td>1.0</td>\n",
              "      <td>...</td>\n",
              "      <td>4.820122e+11</td>\n",
              "      <td>29.9</td>\n",
              "      <td>-95.4</td>\n",
              "      <td>39.649555</td>\n",
              "      <td>0.693147</td>\n",
              "      <td>12.429220</td>\n",
              "      <td>11.637741</td>\n",
              "      <td>11.719753</td>\n",
              "      <td>0.693147</td>\n",
              "      <td>0.693147</td>\n",
              "    </tr>\n",
              "    <tr>\n",
              "      <th>1</th>\n",
              "      <td>5</td>\n",
              "      <td>0</td>\n",
              "      <td>1</td>\n",
              "      <td>0</td>\n",
              "      <td>0</td>\n",
              "      <td>4.0</td>\n",
              "      <td>2.0</td>\n",
              "      <td>0</td>\n",
              "      <td>10.0</td>\n",
              "      <td>2.0</td>\n",
              "      <td>...</td>\n",
              "      <td>3.712901e+11</td>\n",
              "      <td>34.1</td>\n",
              "      <td>-77.9</td>\n",
              "      <td>28.153320</td>\n",
              "      <td>0.693147</td>\n",
              "      <td>11.480413</td>\n",
              "      <td>11.508546</td>\n",
              "      <td>11.647815</td>\n",
              "      <td>0.000000</td>\n",
              "      <td>0.000000</td>\n",
              "    </tr>\n",
              "    <tr>\n",
              "      <th>2</th>\n",
              "      <td>41</td>\n",
              "      <td>0</td>\n",
              "      <td>1</td>\n",
              "      <td>0</td>\n",
              "      <td>0</td>\n",
              "      <td>4.0</td>\n",
              "      <td>2.0</td>\n",
              "      <td>0</td>\n",
              "      <td>10.0</td>\n",
              "      <td>1.0</td>\n",
              "      <td>...</td>\n",
              "      <td>3.403115e+11</td>\n",
              "      <td>40.9</td>\n",
              "      <td>-74.2</td>\n",
              "      <td>36.254620</td>\n",
              "      <td>0.693147</td>\n",
              "      <td>10.755794</td>\n",
              "      <td>11.429413</td>\n",
              "      <td>11.627860</td>\n",
              "      <td>0.693147</td>\n",
              "      <td>0.693147</td>\n",
              "    </tr>\n",
              "    <tr>\n",
              "      <th>3</th>\n",
              "      <td>53</td>\n",
              "      <td>0</td>\n",
              "      <td>1</td>\n",
              "      <td>1</td>\n",
              "      <td>0</td>\n",
              "      <td>3.0</td>\n",
              "      <td>1.0</td>\n",
              "      <td>0</td>\n",
              "      <td>10.0</td>\n",
              "      <td>4.0</td>\n",
              "      <td>...</td>\n",
              "      <td>2.211395e+11</td>\n",
              "      <td>29.9</td>\n",
              "      <td>-92.1</td>\n",
              "      <td>23.334702</td>\n",
              "      <td>0.693147</td>\n",
              "      <td>10.499601</td>\n",
              "      <td>11.595565</td>\n",
              "      <td>12.011079</td>\n",
              "      <td>1.791759</td>\n",
              "      <td>1.791759</td>\n",
              "    </tr>\n",
              "    <tr>\n",
              "      <th>4</th>\n",
              "      <td>62</td>\n",
              "      <td>0</td>\n",
              "      <td>1</td>\n",
              "      <td>0</td>\n",
              "      <td>0</td>\n",
              "      <td>3.0</td>\n",
              "      <td>1.0</td>\n",
              "      <td>0</td>\n",
              "      <td>10.0</td>\n",
              "      <td>1.0</td>\n",
              "      <td>...</td>\n",
              "      <td>1.202701e+11</td>\n",
              "      <td>27.2</td>\n",
              "      <td>-82.0</td>\n",
              "      <td>9.483915</td>\n",
              "      <td>0.693147</td>\n",
              "      <td>11.130215</td>\n",
              "      <td>10.628884</td>\n",
              "      <td>0.000000</td>\n",
              "      <td>1.386294</td>\n",
              "      <td>1.386294</td>\n",
              "    </tr>\n",
              "  </tbody>\n",
              "</table>\n",
              "<p>5 rows × 47 columns</p>\n",
              "</div>\n",
              "    <div class=\"colab-df-buttons\">\n",
              "\n",
              "  <div class=\"colab-df-container\">\n",
              "    <button class=\"colab-df-convert\" onclick=\"convertToInteractive('df-37be578d-2c3a-44a4-a455-0dfd54d90089')\"\n",
              "            title=\"Convert this dataframe to an interactive table.\"\n",
              "            style=\"display:none;\">\n",
              "\n",
              "  <svg xmlns=\"http://www.w3.org/2000/svg\" height=\"24px\" viewBox=\"0 -960 960 960\">\n",
              "    <path d=\"M120-120v-720h720v720H120Zm60-500h600v-160H180v160Zm220 220h160v-160H400v160Zm0 220h160v-160H400v160ZM180-400h160v-160H180v160Zm440 0h160v-160H620v160ZM180-180h160v-160H180v160Zm440 0h160v-160H620v160Z\"/>\n",
              "  </svg>\n",
              "    </button>\n",
              "\n",
              "  <style>\n",
              "    .colab-df-container {\n",
              "      display:flex;\n",
              "      gap: 12px;\n",
              "    }\n",
              "\n",
              "    .colab-df-convert {\n",
              "      background-color: #E8F0FE;\n",
              "      border: none;\n",
              "      border-radius: 50%;\n",
              "      cursor: pointer;\n",
              "      display: none;\n",
              "      fill: #1967D2;\n",
              "      height: 32px;\n",
              "      padding: 0 0 0 0;\n",
              "      width: 32px;\n",
              "    }\n",
              "\n",
              "    .colab-df-convert:hover {\n",
              "      background-color: #E2EBFA;\n",
              "      box-shadow: 0px 1px 2px rgba(60, 64, 67, 0.3), 0px 1px 3px 1px rgba(60, 64, 67, 0.15);\n",
              "      fill: #174EA6;\n",
              "    }\n",
              "\n",
              "    .colab-df-buttons div {\n",
              "      margin-bottom: 4px;\n",
              "    }\n",
              "\n",
              "    [theme=dark] .colab-df-convert {\n",
              "      background-color: #3B4455;\n",
              "      fill: #D2E3FC;\n",
              "    }\n",
              "\n",
              "    [theme=dark] .colab-df-convert:hover {\n",
              "      background-color: #434B5C;\n",
              "      box-shadow: 0px 1px 3px 1px rgba(0, 0, 0, 0.15);\n",
              "      filter: drop-shadow(0px 1px 2px rgba(0, 0, 0, 0.3));\n",
              "      fill: #FFFFFF;\n",
              "    }\n",
              "  </style>\n",
              "\n",
              "    <script>\n",
              "      const buttonEl =\n",
              "        document.querySelector('#df-37be578d-2c3a-44a4-a455-0dfd54d90089 button.colab-df-convert');\n",
              "      buttonEl.style.display =\n",
              "        google.colab.kernel.accessAllowed ? 'block' : 'none';\n",
              "\n",
              "      async function convertToInteractive(key) {\n",
              "        const element = document.querySelector('#df-37be578d-2c3a-44a4-a455-0dfd54d90089');\n",
              "        const dataTable =\n",
              "          await google.colab.kernel.invokeFunction('convertToInteractive',\n",
              "                                                    [key], {});\n",
              "        if (!dataTable) return;\n",
              "\n",
              "        const docLinkHtml = 'Like what you see? Visit the ' +\n",
              "          '<a target=\"_blank\" href=https://colab.research.google.com/notebooks/data_table.ipynb>data table notebook</a>'\n",
              "          + ' to learn more about interactive tables.';\n",
              "        element.innerHTML = '';\n",
              "        dataTable['output_type'] = 'display_data';\n",
              "        await google.colab.output.renderOutput(dataTable, element);\n",
              "        const docLink = document.createElement('div');\n",
              "        docLink.innerHTML = docLinkHtml;\n",
              "        element.appendChild(docLink);\n",
              "      }\n",
              "    </script>\n",
              "  </div>\n",
              "\n",
              "\n",
              "    <div id=\"df-76013d31-8e09-4bae-9338-a78dda45fb3b\">\n",
              "      <button class=\"colab-df-quickchart\" onclick=\"quickchart('df-76013d31-8e09-4bae-9338-a78dda45fb3b')\"\n",
              "                title=\"Suggest charts\"\n",
              "                style=\"display:none;\">\n",
              "\n",
              "<svg xmlns=\"http://www.w3.org/2000/svg\" height=\"24px\"viewBox=\"0 0 24 24\"\n",
              "     width=\"24px\">\n",
              "    <g>\n",
              "        <path d=\"M19 3H5c-1.1 0-2 .9-2 2v14c0 1.1.9 2 2 2h14c1.1 0 2-.9 2-2V5c0-1.1-.9-2-2-2zM9 17H7v-7h2v7zm4 0h-2V7h2v10zm4 0h-2v-4h2v4z\"/>\n",
              "    </g>\n",
              "</svg>\n",
              "      </button>\n",
              "\n",
              "<style>\n",
              "  .colab-df-quickchart {\n",
              "      --bg-color: #E8F0FE;\n",
              "      --fill-color: #1967D2;\n",
              "      --hover-bg-color: #E2EBFA;\n",
              "      --hover-fill-color: #174EA6;\n",
              "      --disabled-fill-color: #AAA;\n",
              "      --disabled-bg-color: #DDD;\n",
              "  }\n",
              "\n",
              "  [theme=dark] .colab-df-quickchart {\n",
              "      --bg-color: #3B4455;\n",
              "      --fill-color: #D2E3FC;\n",
              "      --hover-bg-color: #434B5C;\n",
              "      --hover-fill-color: #FFFFFF;\n",
              "      --disabled-bg-color: #3B4455;\n",
              "      --disabled-fill-color: #666;\n",
              "  }\n",
              "\n",
              "  .colab-df-quickchart {\n",
              "    background-color: var(--bg-color);\n",
              "    border: none;\n",
              "    border-radius: 50%;\n",
              "    cursor: pointer;\n",
              "    display: none;\n",
              "    fill: var(--fill-color);\n",
              "    height: 32px;\n",
              "    padding: 0;\n",
              "    width: 32px;\n",
              "  }\n",
              "\n",
              "  .colab-df-quickchart:hover {\n",
              "    background-color: var(--hover-bg-color);\n",
              "    box-shadow: 0 1px 2px rgba(60, 64, 67, 0.3), 0 1px 3px 1px rgba(60, 64, 67, 0.15);\n",
              "    fill: var(--button-hover-fill-color);\n",
              "  }\n",
              "\n",
              "  .colab-df-quickchart-complete:disabled,\n",
              "  .colab-df-quickchart-complete:disabled:hover {\n",
              "    background-color: var(--disabled-bg-color);\n",
              "    fill: var(--disabled-fill-color);\n",
              "    box-shadow: none;\n",
              "  }\n",
              "\n",
              "  .colab-df-spinner {\n",
              "    border: 2px solid var(--fill-color);\n",
              "    border-color: transparent;\n",
              "    border-bottom-color: var(--fill-color);\n",
              "    animation:\n",
              "      spin 1s steps(1) infinite;\n",
              "  }\n",
              "\n",
              "  @keyframes spin {\n",
              "    0% {\n",
              "      border-color: transparent;\n",
              "      border-bottom-color: var(--fill-color);\n",
              "      border-left-color: var(--fill-color);\n",
              "    }\n",
              "    20% {\n",
              "      border-color: transparent;\n",
              "      border-left-color: var(--fill-color);\n",
              "      border-top-color: var(--fill-color);\n",
              "    }\n",
              "    30% {\n",
              "      border-color: transparent;\n",
              "      border-left-color: var(--fill-color);\n",
              "      border-top-color: var(--fill-color);\n",
              "      border-right-color: var(--fill-color);\n",
              "    }\n",
              "    40% {\n",
              "      border-color: transparent;\n",
              "      border-right-color: var(--fill-color);\n",
              "      border-top-color: var(--fill-color);\n",
              "    }\n",
              "    60% {\n",
              "      border-color: transparent;\n",
              "      border-right-color: var(--fill-color);\n",
              "    }\n",
              "    80% {\n",
              "      border-color: transparent;\n",
              "      border-right-color: var(--fill-color);\n",
              "      border-bottom-color: var(--fill-color);\n",
              "    }\n",
              "    90% {\n",
              "      border-color: transparent;\n",
              "      border-bottom-color: var(--fill-color);\n",
              "    }\n",
              "  }\n",
              "</style>\n",
              "\n",
              "      <script>\n",
              "        async function quickchart(key) {\n",
              "          const quickchartButtonEl =\n",
              "            document.querySelector('#' + key + ' button');\n",
              "          quickchartButtonEl.disabled = true;  // To prevent multiple clicks.\n",
              "          quickchartButtonEl.classList.add('colab-df-spinner');\n",
              "          try {\n",
              "            const charts = await google.colab.kernel.invokeFunction(\n",
              "                'suggestCharts', [key], {});\n",
              "          } catch (error) {\n",
              "            console.error('Error during call to suggestCharts:', error);\n",
              "          }\n",
              "          quickchartButtonEl.classList.remove('colab-df-spinner');\n",
              "          quickchartButtonEl.classList.add('colab-df-quickchart-complete');\n",
              "        }\n",
              "        (() => {\n",
              "          let quickchartButtonEl =\n",
              "            document.querySelector('#df-76013d31-8e09-4bae-9338-a78dda45fb3b button');\n",
              "          quickchartButtonEl.style.display =\n",
              "            google.colab.kernel.accessAllowed ? 'block' : 'none';\n",
              "        })();\n",
              "      </script>\n",
              "    </div>\n",
              "\n",
              "    </div>\n",
              "  </div>\n"
            ],
            "application/vnd.google.colaboratory.intrinsic+json": {
              "type": "dataframe"
            }
          },
          "metadata": {}
        }
      ]
    },
    {
      "cell_type": "code",
      "metadata": {
        "colab": {
          "base_uri": "https://localhost:8080/"
        },
        "id": "f0c173e1",
        "outputId": "9420fd3a-f045-4d50-af32-8655850df189"
      },
      "source": [
        "import statsmodels.api as sm\n",
        "\n",
        "# Define the independent variables (X) and the dependent variable (y)\n",
        "X_cols = [  'logpolicyCount',\n",
        " 'postFIRMConstructionIndicator',\n",
        " 'smallBusinessIndicatorBuilding',\n",
        " 'logtotalBuildingInsuranceCoverage',\n",
        " 'totalContentsInsuranceCoverage',\n",
        "#  'yearOfLoss',\n",
        " 'primaryResidenceIndicator',\n",
        " 'buildingDamageAmount',\n",
        "#  'logbuildingPropertyValue',\n",
        " 'iccCoverage',\n",
        " 'logbuildingReplacementCost',\n",
        " 'signedLogWwaterDepth',\n",
        " 'rentalPropertyIndicator',\n",
        "#  'BuildingAge',\n",
        "]\n",
        "\n",
        "y = df['amountPaidOnBuildingClaim']\n",
        "X = df[X_cols]\n",
        "\n",
        "# Add a constant to the independent variables\n",
        "X = sm.add_constant(X)\n",
        "\n",
        "# Fit the OLS model\n",
        "model = sm.OLS(y, X).fit()\n",
        "\n",
        "# Print the OLS summary\n",
        "print(model.summary())"
      ],
      "execution_count": 6,
      "outputs": [
        {
          "output_type": "stream",
          "name": "stdout",
          "text": [
            "                                OLS Regression Results                               \n",
            "=====================================================================================\n",
            "Dep. Variable:     amountPaidOnBuildingClaim   R-squared:                       0.871\n",
            "Model:                                   OLS   Adj. R-squared:                  0.871\n",
            "Method:                        Least Squares   F-statistic:                 1.493e+05\n",
            "Date:                       Fri, 20 Jun 2025   Prob (F-statistic):               0.00\n",
            "Time:                               05:23:12   Log-Likelihood:            -2.7335e+06\n",
            "No. Observations:                     243498   AIC:                         5.467e+06\n",
            "Df Residuals:                         243486   BIC:                         5.467e+06\n",
            "Df Model:                                 11                                         \n",
            "Covariance Type:                   nonrobust                                         \n",
            "=====================================================================================================\n",
            "                                        coef    std err          t      P>|t|      [0.025      0.975]\n",
            "-----------------------------------------------------------------------------------------------------\n",
            "const                             -3.882e+04    594.403    -65.310      0.000      -4e+04   -3.77e+04\n",
            "logpolicyCount                     2491.4101    230.860     10.792      0.000    2038.930    2943.891\n",
            "postFIRMConstructionIndicator      -961.6082     79.921    -12.032      0.000   -1118.250    -804.966\n",
            "smallBusinessIndicatorBuilding     3771.7988   1538.133      2.452      0.014     757.099    6786.498\n",
            "logtotalBuildingInsuranceCoverage  3228.2469     55.569     58.094      0.000    3119.333    3337.161\n",
            "totalContentsInsuranceCoverage        0.0127      0.001     12.748      0.000       0.011       0.015\n",
            "primaryResidenceIndicator           869.7209     82.596     10.530      0.000     707.836    1031.606\n",
            "buildingDamageAmount                  0.7847      0.001   1123.549      0.000       0.783       0.786\n",
            "iccCoverage                          -0.0045      0.008     -0.554      0.580      -0.020       0.011\n",
            "logbuildingReplacementCost          209.4131      9.705     21.577      0.000     190.391     228.435\n",
            "signedLogWwaterDepth                845.0065     33.168     25.477      0.000     779.998     910.015\n",
            "rentalPropertyIndicator            -397.3190    723.179     -0.549      0.583   -1814.730    1020.093\n",
            "==============================================================================\n",
            "Omnibus:                   528124.293   Durbin-Watson:                   1.998\n",
            "Prob(Omnibus):                  0.000   Jarque-Bera (JB):      11887075119.401\n",
            "Skew:                         -18.956   Prob(JB):                         0.00\n",
            "Kurtosis:                    1084.755   Cond. No.                     3.50e+06\n",
            "==============================================================================\n",
            "\n",
            "Notes:\n",
            "[1] Standard Errors assume that the covariance matrix of the errors is correctly specified.\n",
            "[2] The condition number is large, 3.5e+06. This might indicate that there are\n",
            "strong multicollinearity or other numerical problems.\n"
          ]
        }
      ]
    },
    {
      "cell_type": "code",
      "metadata": {
        "colab": {
          "base_uri": "https://localhost:8080/"
        },
        "id": "f06a6fa0",
        "outputId": "e64e9c7d-1bb3-4df7-b4af-46dfb34daed8"
      },
      "source": [
        "# Perform the Ramsey RESET test\n",
        "reset_test = sm.stats.diagnostic.linear_reset(model)\n",
        "\n",
        "# Print the test results\n",
        "print(reset_test)"
      ],
      "execution_count": 7,
      "outputs": [
        {
          "output_type": "stream",
          "name": "stdout",
          "text": [
            "<Wald test (chi2): statistic=75238.11315022569, p-value=0.0, df_denom=2>\n"
          ]
        }
      ]
    },
    {
      "cell_type": "markdown",
      "source": [
        "## First IV combination"
      ],
      "metadata": {
        "id": "A3bJ-vmKLVqq"
      }
    },
    {
      "cell_type": "code",
      "metadata": {
        "colab": {
          "base_uri": "https://localhost:8080/"
        },
        "id": "d154821c",
        "outputId": "720e7046-b19b-4f2b-866c-8b4f9a716a46"
      },
      "source": [
        "from linearmodels.iv import IV2SLS\n",
        "import statsmodels.api as sm\n",
        "\n",
        "# Define the endogenous variable, instrumental variables, and other exogenous variables\n",
        "endog = df['amountPaidOnBuildingClaim']\n",
        "exog = sm.add_constant(df[['logpolicyCount',\n",
        "                           'postFIRMConstructionIndicator',\n",
        "                           'totalContentsInsuranceCoverage',\n",
        "                           'primaryResidenceIndicator',\n",
        "                           'buildingDamageAmount',\n",
        "                           'logbuildingPropertyValue',\n",
        "                           'iccCoverage',\n",
        "                           'logbuildingReplacementCost',\n",
        "                           'signedLogWwaterDepth',\n",
        "                           'rentalPropertyIndicator',\n",
        "                           'BuildingAge']])\n",
        "# Exogenous variables which are also included in the original regression\n",
        "endog_variable = df['logtotalBuildingInsuranceCoverage']\n",
        "instrumental_variables = df[['smallBusinessIndicatorBuilding', 'yearOfLoss']]\n",
        "\n",
        "# Fit the 2SLS model\n",
        "tsls_model = IV2SLS(endog, exog, endog_variable, instrumental_variables).fit()\n",
        "\n",
        "# Print the 2SLS summary\n",
        "print(tsls_model.summary)\n",
        "\n",
        "# Perform the Wu-Hausman test\n",
        "hausman_test = tsls_model.wu_hausman()\n",
        "\n",
        "# Print the test results\n",
        "print(hausman_test)\n",
        "\n",
        "hansen_j = tsls_model.sargan\n",
        "print(\"\\nHansen J Test (Sargan Test):\")\n",
        "print(hansen_j)"
      ],
      "execution_count": 8,
      "outputs": [
        {
          "output_type": "stream",
          "name": "stdout",
          "text": [
            "                              IV-2SLS Estimation Summary                             \n",
            "=====================================================================================\n",
            "Dep. Variable:     amountPaidOnBuildingClaim   R-squared:                      0.5217\n",
            "Estimator:                           IV-2SLS   Adj. R-squared:                 0.5217\n",
            "No. Observations:                     243498   F-statistic:                 7.933e+04\n",
            "Date:                       Fri, Jun 20 2025   P-value (F-stat)                0.0000\n",
            "Time:                               05:23:19   Distribution:                 chi2(12)\n",
            "Cov. Estimator:                       robust                                         \n",
            "                                                                                     \n",
            "                                         Parameter Estimates                                         \n",
            "=====================================================================================================\n",
            "                                   Parameter  Std. Err.     T-stat    P-value    Lower CI    Upper CI\n",
            "-----------------------------------------------------------------------------------------------------\n",
            "const                             -3.032e+05  5.098e+04    -5.9476     0.0000  -4.031e+05  -2.033e+05\n",
            "logpolicyCount                    -3.518e+04     7245.5    -4.8548     0.0000  -4.938e+04  -2.097e+04\n",
            "postFIRMConstructionIndicator        -8201.3     1555.4    -5.2729     0.0000  -1.125e+04     -5152.8\n",
            "totalContentsInsuranceCoverage       -0.2321     0.0472    -4.9168     0.0000     -0.3246     -0.1396\n",
            "primaryResidenceIndicator             688.42     183.67     3.7482     0.0002      328.44      1048.4\n",
            "buildingDamageAmount                  0.8144     0.0118     68.854     0.0000      0.7912      0.8376\n",
            "logbuildingPropertyValue          -2.164e+04     3847.2    -5.6260     0.0000  -2.918e+04   -1.41e+04\n",
            "iccCoverage                          -1.3659     0.2521    -5.4177     0.0000     -1.8600     -0.8717\n",
            "logbuildingReplacementCost            524.91     60.823     8.6302     0.0000      405.70      644.13\n",
            "signedLogWwaterDepth                  2332.9     308.77     7.5556     0.0000      1727.8      2938.1\n",
            "rentalPropertyIndicator              -269.26     1644.8    -0.1637     0.8700     -3493.0      2954.5\n",
            "BuildingAge                          -74.797     20.428    -3.6615     0.0003     -114.84     -34.759\n",
            "logtotalBuildingInsuranceCoverage  5.334e+04     9323.3     5.7216     0.0000   3.507e+04   7.162e+04\n",
            "=====================================================================================================\n",
            "\n",
            "Endogenous: logtotalBuildingInsuranceCoverage\n",
            "Instruments: smallBusinessIndicatorBuilding, yearOfLoss\n",
            "Robust Covariance (Heteroskedastic)\n",
            "Debiased: False\n",
            "Wu-Hausman test of exogeneity\n",
            "H0: All endogenous variables are exogenous\n",
            "Statistic: 1546.4173\n",
            "P-value: 0.0000\n",
            "Distributed: F(1,243484)\n",
            "\n",
            "Hansen J Test (Sargan Test):\n",
            "Sargan's test of overidentification\n",
            "H0: The model is not overidentified.\n",
            "Statistic: 423.6481\n",
            "P-value: 0.0000\n",
            "Distributed: chi2(1)\n"
          ]
        }
      ]
    },
    {
      "cell_type": "markdown",
      "source": [
        "The Hansen J test for overidentification yields a test statistic of 423.64 (p-value ~ 0.000). Thus, we reject the null hypothesis of instrument exogeneity. Rejecting the null hypothesis means that there is strong statistical evidence to suggest that at least one of instrumental variables is not valid. In other words, it is likely correlated with the error term in your structural equation."
      ],
      "metadata": {
        "id": "DtrZf7OHUTw7"
      }
    },
    {
      "cell_type": "markdown",
      "source": [
        "## Second IV Combination"
      ],
      "metadata": {
        "id": "maomsnDJLagN"
      }
    },
    {
      "cell_type": "code",
      "source": [
        "from linearmodels.iv import IV2SLS\n",
        "import statsmodels.api as sm\n",
        "\n",
        "# Define the endogenous variable, instrumental variables, and other exogenous variables\n",
        "endog = df['amountPaidOnBuildingClaim']\n",
        "# Remove 'logbuildingPropertyValue' from exog when it's the endogenous variable\n",
        "exog_cols = ['logpolicyCount',\n",
        "             'postFIRMConstructionIndicator',\n",
        "             'totalContentsInsuranceCoverage',\n",
        "             'primaryResidenceIndicator',\n",
        "             'buildingDamageAmount',\n",
        "             'iccCoverage',\n",
        "             'logbuildingReplacementCost',\n",
        "             'signedLogWwaterDepth',\n",
        "             'rentalPropertyIndicator',\n",
        "             ]\n",
        "exog = sm.add_constant(df[exog_cols])\n",
        "\n",
        "endog_variable = df['logbuildingPropertyValue']\n",
        "instrumental_variables = df[['BuildingAge', 'yearOfLoss']]\n",
        "\n",
        "# Fit the 2SLS model\n",
        "tsls_model = IV2SLS(endog, exog, endog_variable, instrumental_variables).fit()\n",
        "\n",
        "# Print the 2SLS summary\n",
        "print(tsls_model.summary)\n",
        "\n",
        "# Perform the Wu-Hausman test\n",
        "hausman_test = tsls_model.wu_hausman()\n",
        "\n",
        "# Print the test results\n",
        "print(hausman_test)"
      ],
      "metadata": {
        "colab": {
          "base_uri": "https://localhost:8080/"
        },
        "id": "1ikJKcgizBH4",
        "outputId": "08f34ebb-856a-4118-c720-5096e95d3561"
      },
      "execution_count": 9,
      "outputs": [
        {
          "output_type": "stream",
          "name": "stdout",
          "text": [
            "                              IV-2SLS Estimation Summary                             \n",
            "=====================================================================================\n",
            "Dep. Variable:     amountPaidOnBuildingClaim   R-squared:                      0.8009\n",
            "Estimator:                           IV-2SLS   Adj. R-squared:                 0.8009\n",
            "No. Observations:                     243498   F-statistic:                 1.722e+05\n",
            "Date:                       Fri, Jun 20 2025   P-value (F-stat)                0.0000\n",
            "Time:                               05:23:31   Distribution:                 chi2(10)\n",
            "Cov. Estimator:                       robust                                         \n",
            "                                                                                     \n",
            "                                       Parameter Estimates                                        \n",
            "==================================================================================================\n",
            "                                Parameter  Std. Err.     T-stat    P-value    Lower CI    Upper CI\n",
            "--------------------------------------------------------------------------------------------------\n",
            "const                          -2.127e+05     6624.4    -32.102     0.0000  -2.256e+05  -1.997e+05\n",
            "logpolicyCount                 -1.223e+04     1021.8    -11.972     0.0000  -1.424e+04  -1.023e+04\n",
            "postFIRMConstructionIndicator     -4306.2     186.35    -23.108     0.0000     -4671.5     -3941.0\n",
            "totalContentsInsuranceCoverage    -0.0860     0.0046    -18.546     0.0000     -0.0951     -0.0769\n",
            "primaryResidenceIndicator          3290.1     148.30     22.185     0.0000      2999.4      3580.8\n",
            "buildingDamageAmount               0.7242     0.0109     66.343     0.0000      0.7028      0.7456\n",
            "iccCoverage                        0.1280     0.0149     8.6017     0.0000      0.0988      0.1571\n",
            "logbuildingReplacementCost        -487.35     34.278    -14.218     0.0000     -554.54     -420.17\n",
            "signedLogWwaterDepth               527.81     149.90     3.5212     0.0004      234.02      821.60\n",
            "rentalPropertyIndicator           -1932.3     802.03    -2.4092     0.0160     -3504.2     -360.31\n",
            "logbuildingPropertyValue        2.002e+04     636.38     31.452     0.0000   1.877e+04   2.126e+04\n",
            "==================================================================================================\n",
            "\n",
            "Endogenous: logbuildingPropertyValue\n",
            "Instruments: BuildingAge, yearOfLoss\n",
            "Robust Covariance (Heteroskedastic)\n",
            "Debiased: False\n",
            "Wu-Hausman test of exogeneity\n",
            "H0: All endogenous variables are exogenous\n",
            "Statistic: 2083.1074\n",
            "P-value: 0.0000\n",
            "Distributed: F(1,243486)\n"
          ]
        }
      ]
    },
    {
      "cell_type": "markdown",
      "source": [
        "We used a two-stage least squares (2SLS) regression to estimate the effect of logbuildingPropertyValue on amountPaidOnBuildingClaim, using BuildingAge and yearOfLoss as instrumental variables. The Wu-Hausman test statistic was 2053.1074 (p < 0.001), strongly rejecting the null hypothesis of exogeneity. This confirms that logbuildingPropertyValue is endogenous in our setting, and that OLS estimates would be inconsistent. Therefore, IV/2SLS results are required for unbiased inference."
      ],
      "metadata": {
        "id": "GtwWEMbSMUB0"
      }
    },
    {
      "cell_type": "markdown",
      "source": [
        "**BP**"
      ],
      "metadata": {
        "id": "BEau_25NqbBT"
      }
    },
    {
      "cell_type": "code",
      "source": [
        "# Step 1: First-stage regression\n",
        "first_stage_X = sm.add_constant(pd.concat([df[exog_cols], df[['BuildingAge', 'yearOfLoss']]], axis=1))\n",
        "first_stage_y = df['logbuildingPropertyValue']\n",
        "\n",
        "first_stage_model = sm.OLS(first_stage_y, first_stage_X).fit()\n",
        "fitted_endo = first_stage_model.fittedvalues\n",
        "\n"
      ],
      "metadata": {
        "id": "E4O5HZuLqaBr"
      },
      "execution_count": 10,
      "outputs": []
    },
    {
      "cell_type": "code",
      "source": [
        "# Step 2: Combine exogenous vars + fitted endogenous variable\n",
        "X_full = sm.add_constant(pd.concat([df[exog_cols], fitted_endo.rename('fitted_logbuildingPropertyValue')], axis=1))\n",
        "from statsmodels.stats.diagnostic import het_breuschpagan\n",
        "from statsmodels.stats.stattools import durbin_watson\n",
        "\n",
        "# Extract residuals from 2SLS model\n",
        "residuals = tsls_model.resids\n",
        "\n",
        "# Breusch-Pagan Test\n",
        "bp_test = het_breuschpagan(residuals, X_full)\n",
        "labels = ['LM Statistic', 'LM p-value', 'F-statistic', 'F p-value']\n",
        "print(\"\\n✅ Breusch-Pagan Test (Heteroskedasticity):\")\n",
        "for l, v in zip(labels, bp_test):\n",
        "    print(f\"{l}: {v:.4f}\")\n",
        "\n",
        "# Durbin-Watson Test\n",
        "dw_stat = durbin_watson(residuals)\n",
        "print(f\"\\n✅ Durbin-Watson Test (Autocorrelation): {dw_stat:.4f}\")\n"
      ],
      "metadata": {
        "colab": {
          "base_uri": "https://localhost:8080/"
        },
        "id": "NY5msfcAriZt",
        "outputId": "29716c3a-cbd1-4d2f-f2a9-bf1baba7a879"
      },
      "execution_count": 11,
      "outputs": [
        {
          "output_type": "stream",
          "name": "stdout",
          "text": [
            "\n",
            "✅ Breusch-Pagan Test (Heteroskedasticity):\n",
            "LM Statistic: 22932.8470\n",
            "LM p-value: 0.0000\n",
            "F-statistic: 2531.6103\n",
            "F p-value: 0.0000\n",
            "\n",
            "✅ Durbin-Watson Test (Autocorrelation): 1.9912\n"
          ]
        }
      ]
    },
    {
      "cell_type": "code",
      "source": [
        "import statsmodels.api as sm\n",
        "import pandas as pd\n",
        "\n",
        "# Step 1: Extract fitted values from 2SLS\n",
        "fitted_vals = tsls_model.fitted_values.squeeze()\n",
        "\n",
        "# Step 2: Create powers of fitted values\n",
        "fitted_sq = fitted_vals ** 2\n",
        "fitted_cu = fitted_vals ** 3\n",
        "\n",
        "# Step 3: Combine regressors + powers of fitted\n",
        "X_reset = sm.add_constant(pd.concat([df[exog_cols],\n",
        "                                     fitted_sq.rename('fitted_sq'),\n",
        "                                     fitted_cu.rename('fitted_cu')], axis=1))\n",
        "\n",
        "# Step 4: Run OLS (not 2SLS) for RESET test (this is diagnostic only)\n",
        "y = df['amountPaidOnBuildingClaim']\n",
        "ols_reset = sm.OLS(y, X_reset).fit()\n",
        "\n",
        "# Step 5: F-test for joint significance of fitted_sq and fitted_cu\n",
        "print(\"\\n✅ Ramsey RESET Test (Functional Form Misspecification):\")\n",
        "print(ols_reset.f_test(\"fitted_sq = 0, fitted_cu = 0\"))\n"
      ],
      "metadata": {
        "colab": {
          "base_uri": "https://localhost:8080/"
        },
        "id": "uvbSDM5Z9RVW",
        "outputId": "8a8ea867-b41f-4b5a-8f6b-3dde404a139a"
      },
      "execution_count": 12,
      "outputs": [
        {
          "output_type": "stream",
          "name": "stdout",
          "text": [
            "\n",
            "✅ Ramsey RESET Test (Functional Form Misspecification):\n",
            "<F test: F=43982.40859659575, p=0.0, df_denom=2.43e+05, df_num=2>\n"
          ]
        }
      ]
    },
    {
      "cell_type": "code",
      "source": [
        "import matplotlib.pyplot as plt\n",
        "import seaborn as sns\n",
        "import scipy.stats as stats\n",
        "\n",
        "# 1️⃣ Residuals vs. Fitted Plot\n",
        "plt.figure(figsize=(8, 4))\n",
        "sns.scatterplot(x=tsls_model.fitted_values.squeeze(), y=residuals, alpha=0.5)\n",
        "plt.axhline(0, color='red', linestyle='--')\n",
        "plt.title(\"✅ Residuals vs. Fitted Values\")\n",
        "plt.xlabel(\"Fitted Values\")\n",
        "plt.ylabel(\"Residuals\")\n",
        "plt.tight_layout()\n",
        "plt.show()\n",
        "\n",
        "# 2️⃣ Q-Q Plot of Residuals\n",
        "plt.figure(figsize=(6, 6))\n",
        "stats.probplot(residuals, dist=\"norm\", plot=plt)\n",
        "plt.title(\"✅ Q–Q Plot of Residuals\")\n",
        "plt.tight_layout()\n",
        "plt.show()\n"
      ],
      "metadata": {
        "colab": {
          "base_uri": "https://localhost:8080/",
          "height": 1000
        },
        "id": "SS7-g6jKuiX5",
        "outputId": "5d0dec7a-5341-47cb-9924-621eb0755ea7"
      },
      "execution_count": 13,
      "outputs": [
        {
          "output_type": "stream",
          "name": "stderr",
          "text": [
            "/tmp/ipython-input-13-1888011781.py:12: UserWarning: Glyph 9989 (\\N{WHITE HEAVY CHECK MARK}) missing from font(s) DejaVu Sans.\n",
            "  plt.tight_layout()\n",
            "/usr/local/lib/python3.11/dist-packages/IPython/core/pylabtools.py:151: UserWarning: Glyph 9989 (\\N{WHITE HEAVY CHECK MARK}) missing from font(s) DejaVu Sans.\n",
            "  fig.canvas.print_figure(bytes_io, **kw)\n"
          ]
        },
        {
          "output_type": "display_data",
          "data": {
            "text/plain": [
              "<Figure size 800x400 with 1 Axes>"
            ],
            "image/png": "[encoded data removed]"
          },
          "metadata": {}
        },
        {
          "output_type": "stream",
          "name": "stderr",
          "text": [
            "/tmp/ipython-input-13-1888011781.py:19: UserWarning: Glyph 9989 (\\N{WHITE HEAVY CHECK MARK}) missing from font(s) DejaVu Sans.\n",
            "  plt.tight_layout()\n"
          ]
        },
        {
          "output_type": "display_data",
          "data": {
            "text/plain": [
              "<Figure size 600x600 with 1 Axes>"
            ],
            "image/png": "[encoded data removed]"
          },
          "metadata": {}
        }
      ]
    },
    {
      "cell_type": "code",
      "source": [
        "pip install libpysal esda\n"
      ],
      "metadata": {
        "colab": {
          "base_uri": "https://localhost:8080/"
        },
        "collapsed": true,
        "id": "Pw_Y7XxEw9EH",
        "outputId": "6c90210b-9ef6-4102-873a-84b5d9f61b8d"
      },
      "execution_count": 14,
      "outputs": [
        {
          "output_type": "stream",
          "name": "stdout",
          "text": [
            "Requirement already satisfied: libpysal in /usr/local/lib/python3.11/dist-packages (4.13.0)\n",
            "Requirement already satisfied: esda in /usr/local/lib/python3.11/dist-packages (2.7.0)\n",
            "Requirement already satisfied: beautifulsoup4>=4.10 in /usr/local/lib/python3.11/dist-packages (from libpysal) (4.13.4)\n",
            "Requirement already satisfied: geopandas>=0.10.0 in /usr/local/lib/python3.11/dist-packages (from libpysal) (1.0.1)\n",
            "Requirement already satisfied: numpy>=1.22 in /usr/local/lib/python3.11/dist-packages (from libpysal) (2.0.2)\n",
            "Requirement already satisfied: packaging>=22 in /usr/local/lib/python3.11/dist-packages (from libpysal) (24.2)\n",
            "Requirement already satisfied: pandas>=1.4 in /usr/local/lib/python3.11/dist-packages (from libpysal) (2.2.2)\n",
            "Requirement already satisfied: platformdirs>=2.0.2 in /usr/local/lib/python3.11/dist-packages (from libpysal) (4.3.8)\n",
            "Requirement already satisfied: requests>=2.27 in /usr/local/lib/python3.11/dist-packages (from libpysal) (2.32.3)\n",
            "Requirement already satisfied: scipy>=1.8 in /usr/local/lib/python3.11/dist-packages (from libpysal) (1.15.3)\n",
            "Requirement already satisfied: shapely>=2.0.1 in /usr/local/lib/python3.11/dist-packages (from libpysal) (2.1.1)\n",
            "Requirement already satisfied: scikit-learn>=1.1 in /usr/local/lib/python3.11/dist-packages (from libpysal) (1.6.1)\n",
            "Requirement already satisfied: soupsieve>1.2 in /usr/local/lib/python3.11/dist-packages (from beautifulsoup4>=4.10->libpysal) (2.7)\n",
            "Requirement already satisfied: typing-extensions>=4.0.0 in /usr/local/lib/python3.11/dist-packages (from beautifulsoup4>=4.10->libpysal) (4.14.0)\n",
            "Requirement already satisfied: pyogrio>=0.7.2 in /usr/local/lib/python3.11/dist-packages (from geopandas>=0.10.0->libpysal) (0.11.0)\n",
            "Requirement already satisfied: pyproj>=3.3.0 in /usr/local/lib/python3.11/dist-packages (from geopandas>=0.10.0->libpysal) (3.7.1)\n",
            "Requirement already satisfied: python-dateutil>=2.8.2 in /usr/local/lib/python3.11/dist-packages (from pandas>=1.4->libpysal) (2.9.0.post0)\n",
            "Requirement already satisfied: pytz>=2020.1 in /usr/local/lib/python3.11/dist-packages (from pandas>=1.4->libpysal) (2025.2)\n",
            "Requirement already satisfied: tzdata>=2022.7 in /usr/local/lib/python3.11/dist-packages (from pandas>=1.4->libpysal) (2025.2)\n",
            "Requirement already satisfied: charset-normalizer<4,>=2 in /usr/local/lib/python3.11/dist-packages (from requests>=2.27->libpysal) (3.4.2)\n",
            "Requirement already satisfied: idna<4,>=2.5 in /usr/local/lib/python3.11/dist-packages (from requests>=2.27->libpysal) (3.10)\n",
            "Requirement already satisfied: urllib3<3,>=1.21.1 in /usr/local/lib/python3.11/dist-packages (from requests>=2.27->libpysal) (2.4.0)\n",
            "Requirement already satisfied: certifi>=2017.4.17 in /usr/local/lib/python3.11/dist-packages (from requests>=2.27->libpysal) (2025.6.15)\n",
            "Requirement already satisfied: joblib>=1.2.0 in /usr/local/lib/python3.11/dist-packages (from scikit-learn>=1.1->libpysal) (1.5.1)\n",
            "Requirement already satisfied: threadpoolctl>=3.1.0 in /usr/local/lib/python3.11/dist-packages (from scikit-learn>=1.1->libpysal) (3.6.0)\n",
            "Requirement already satisfied: six>=1.5 in /usr/local/lib/python3.11/dist-packages (from python-dateutil>=2.8.2->pandas>=1.4->libpysal) (1.17.0)\n"
          ]
        }
      ]
    },
    {
      "cell_type": "code",
      "source": [
        "!pip install --quiet libpysal esda\n"
      ],
      "metadata": {
        "id": "EJG8hnNzxoZd"
      },
      "execution_count": 15,
      "outputs": []
    },
    {
      "cell_type": "code",
      "source": [
        "# Sample 5000 observations for safety; adjust if needed\n",
        "df_sampled = df[['latitude', 'longitude']].copy()\n",
        "df_sampled['residuals'] = residuals\n",
        "df_sampled = df_sampled.dropna().sample(n=5000, random_state=42)\n",
        "import numpy as np\n",
        "from libpysal.weights import KNN\n",
        "from esda.moran import Moran\n",
        "\n",
        "# Coordinates list\n",
        "coords = list(zip(df_sampled['longitude'], df_sampled['latitude']))\n",
        "\n",
        "# Create a spatial weights matrix using 5 nearest neighbors\n",
        "w_knn = KNN(coords, k=5)\n",
        "\n",
        "# Convert residuals to numpy array\n",
        "resid_array = df_sampled['residuals'].to_numpy()\n",
        "\n",
        "# Run Moran’s I test\n",
        "mi_knn = Moran(resid_array, w_knn)\n",
        "\n",
        "# Print results\n",
        "print(\"✅ Moran’s I Test using K-Nearest Neighbors (k=5):\")\n",
        "print(f\"• Moran's I        : {mi_knn.I:.4f}\")\n",
        "print(f\"• Expected I (H0)  : {mi_knn.EI:.4f}\")\n",
        "print(f\"• Z-score          : {mi_knn.z_norm:.4f}\")\n",
        "print(f\"• P-value          : {mi_knn.p_norm:.4f}\")\n"
      ],
      "metadata": {
        "colab": {
          "base_uri": "https://localhost:8080/"
        },
        "id": "lgPxvJ7GxHzS",
        "outputId": "b7fe50d8-faed-494a-a106-8b2dbe82699d"
      },
      "execution_count": 16,
      "outputs": [
        {
          "output_type": "stream",
          "name": "stderr",
          "text": [
            "/usr/local/lib/python3.11/dist-packages/libpysal/weights/distance.py:153: UserWarning: The weights matrix is not fully connected: \n",
            " There are 147 disconnected components.\n",
            "  W.__init__(self, neighbors, id_order=ids, **kwargs)\n"
          ]
        },
        {
          "output_type": "stream",
          "name": "stdout",
          "text": [
            "✅ Moran’s I Test using K-Nearest Neighbors (k=5):\n",
            "• Moran's I        : 0.0515\n",
            "• Expected I (H0)  : -0.0002\n",
            "• Z-score          : 6.8050\n",
            "• P-value          : 0.0000\n"
          ]
        }
      ]
    },
    {
      "cell_type": "code",
      "source": [
        "import numpy as np\n",
        "from libpysal.weights import KNN\n",
        "from esda.moran import Moran\n",
        "\n",
        "# Sample 5000 observations for safety\n",
        "df_sampled = df[['latitude', 'longitude']].copy()\n",
        "df_sampled['residuals'] = residuals\n",
        "df_sampled = df_sampled.dropna().sample(n=5000, random_state=42)\n",
        "\n",
        "# Prepare coordinates and residuals\n",
        "coords = list(zip(df_sampled['longitude'], df_sampled['latitude']))\n",
        "resid_array = df_sampled['residuals'].to_numpy()\n",
        "\n",
        "# List of k values to test\n",
        "k_values = [3, 5, 7, 10, 15]\n",
        "\n",
        "print(\"✅ Moran’s I Test for Different k (KNN):\\n\")\n",
        "\n",
        "# Loop over each k\n",
        "for k in k_values:\n",
        "    try:\n",
        "        w_knn = KNN(coords, k=k)\n",
        "        mi = Moran(resid_array, w_knn)\n",
        "        print(f\"🔹 k = {k}\")\n",
        "        print(f\"   • Moran's I       : {mi.I:.4f}\")\n",
        "        print(f\"   • Expected I (H0) : {mi.EI:.4f}\")\n",
        "        print(f\"   • Z-score         : {mi.z_norm:.4f}\")\n",
        "        print(f\"   • P-value         : {mi.p_norm:.4f}\\n\")\n",
        "    except Exception as e:\n",
        "        print(f\"❌ Error at k = {k}: {e}\\n\")\n"
      ],
      "metadata": {
        "colab": {
          "base_uri": "https://localhost:8080/"
        },
        "id": "IwRzHop1xHvx",
        "outputId": "cef6ec5e-8325-476f-d347-8466eafab44d"
      },
      "execution_count": 18,
      "outputs": [
        {
          "output_type": "stream",
          "name": "stdout",
          "text": [
            "✅ Moran’s I Test for Different k (KNN):\n",
            "\n"
          ]
        },
        {
          "output_type": "stream",
          "name": "stderr",
          "text": [
            "/usr/local/lib/python3.11/dist-packages/libpysal/weights/distance.py:153: UserWarning: The weights matrix is not fully connected: \n",
            " There are 273 disconnected components.\n",
            "  W.__init__(self, neighbors, id_order=ids, **kwargs)\n"
          ]
        },
        {
          "output_type": "stream",
          "name": "stdout",
          "text": [
            "🔹 k = 3\n",
            "   • Moran's I       : 0.0709\n",
            "   • Expected I (H0) : -0.0002\n",
            "   • Z-score         : 7.4484\n",
            "   • P-value         : 0.0000\n",
            "\n"
          ]
        },
        {
          "output_type": "stream",
          "name": "stderr",
          "text": [
            "/usr/local/lib/python3.11/dist-packages/libpysal/weights/distance.py:153: UserWarning: The weights matrix is not fully connected: \n",
            " There are 147 disconnected components.\n",
            "  W.__init__(self, neighbors, id_order=ids, **kwargs)\n"
          ]
        },
        {
          "output_type": "stream",
          "name": "stdout",
          "text": [
            "🔹 k = 5\n",
            "   • Moran's I       : 0.0515\n",
            "   • Expected I (H0) : -0.0002\n",
            "   • Z-score         : 6.8050\n",
            "   • P-value         : 0.0000\n",
            "\n"
          ]
        },
        {
          "output_type": "stream",
          "name": "stderr",
          "text": [
            "/usr/local/lib/python3.11/dist-packages/libpysal/weights/distance.py:153: UserWarning: The weights matrix is not fully connected: \n",
            " There are 84 disconnected components.\n",
            "  W.__init__(self, neighbors, id_order=ids, **kwargs)\n"
          ]
        },
        {
          "output_type": "stream",
          "name": "stdout",
          "text": [
            "🔹 k = 7\n",
            "   • Moran's I       : 0.0471\n",
            "   • Expected I (H0) : -0.0002\n",
            "   • Z-score         : 7.2681\n",
            "   • P-value         : 0.0000\n",
            "\n"
          ]
        },
        {
          "output_type": "stream",
          "name": "stderr",
          "text": [
            "/usr/local/lib/python3.11/dist-packages/libpysal/weights/distance.py:153: UserWarning: The weights matrix is not fully connected: \n",
            " There are 43 disconnected components.\n",
            "  W.__init__(self, neighbors, id_order=ids, **kwargs)\n"
          ]
        },
        {
          "output_type": "stream",
          "name": "stdout",
          "text": [
            "🔹 k = 10\n",
            "   • Moran's I       : 0.0537\n",
            "   • Expected I (H0) : -0.0002\n",
            "   • Z-score         : 9.7300\n",
            "   • P-value         : 0.0000\n",
            "\n"
          ]
        },
        {
          "output_type": "stream",
          "name": "stderr",
          "text": [
            "/usr/local/lib/python3.11/dist-packages/libpysal/weights/distance.py:153: UserWarning: The weights matrix is not fully connected: \n",
            " There are 20 disconnected components.\n",
            "  W.__init__(self, neighbors, id_order=ids, **kwargs)\n"
          ]
        },
        {
          "output_type": "stream",
          "name": "stdout",
          "text": [
            "🔹 k = 15\n",
            "   • Moran's I       : 0.0534\n",
            "   • Expected I (H0) : -0.0002\n",
            "   • Z-score         : 11.6680\n",
            "   • P-value         : 0.0000\n",
            "\n"
          ]
        }
      ]
    },
    {
      "cell_type": "code",
      "source": [
        "import matplotlib.pyplot as plt\n",
        "from statsmodels.graphics.tsaplots import plot_acf\n",
        "\n",
        "# ACF plot of residuals\n",
        "plt.figure(figsize=(8, 4))\n",
        "plot_acf(residuals, lags=30, alpha=0.05)\n",
        "plt.title('✅ ACF Plot of 2SLS Residuals')\n",
        "plt.tight_layout()\n",
        "plt.show()\n"
      ],
      "metadata": {
        "colab": {
          "base_uri": "https://localhost:8080/",
          "height": 594
        },
        "id": "nqY7dr2HtQPG",
        "outputId": "d0d866d3-713d-4c7f-864f-2ffa02173ea9"
      },
      "execution_count": 19,
      "outputs": [
        {
          "output_type": "stream",
          "name": "stderr",
          "text": [
            "/tmp/ipython-input-19-897964680.py:8: UserWarning: Glyph 9989 (\\N{WHITE HEAVY CHECK MARK}) missing from font(s) DejaVu Sans.\n",
            "  plt.tight_layout()\n"
          ]
        },
        {
          "output_type": "display_data",
          "data": {
            "text/plain": [
              "<Figure size 800x400 with 0 Axes>"
            ]
          },
          "metadata": {}
        },
        {
          "output_type": "stream",
          "name": "stderr",
          "text": [
            "/usr/local/lib/python3.11/dist-packages/IPython/core/pylabtools.py:151: UserWarning: Glyph 9989 (\\N{WHITE HEAVY CHECK MARK}) missing from font(s) DejaVu Sans.\n",
            "  fig.canvas.print_figure(bytes_io, **kw)\n"
          ]
        },
        {
          "output_type": "display_data",
          "data": {
            "text/plain": [
              "<Figure size 640x480 with 1 Axes>"
            ],
            "image/png": "[encoded data removed]"
          },
          "metadata": {}
        }
      ]
    },
    {
      "cell_type": "code",
      "source": [
        "from statsmodels.stats.diagnostic import acorr_ljungbox\n",
        "import matplotlib.pyplot as plt\n",
        "\n",
        "# Perform Ljung-Box test up to 30 lags\n",
        "ljung_results = acorr_ljungbox(residuals, lags=25, return_df=True)\n",
        "\n",
        "# Display first few results\n",
        "print(\"\\n✅ Ljung-Box Test Results (First 10 Lags):\")\n",
        "print(ljung_results.head(10))\n",
        "\n",
        "# Plot p-values\n",
        "plt.figure(figsize=(8, 4))\n",
        "plt.plot(ljung_results.index, ljung_results['lb_pvalue'], marker='o')\n",
        "plt.axhline(0.05, color='red', linestyle='--', label='Significance Level (0.05)')\n",
        "plt.title('✅ Ljung-Box Test p-values Across Lags')\n",
        "plt.xlabel('Lag')\n",
        "plt.ylabel('p-value')\n",
        "plt.legend()\n",
        "plt.tight_layout()\n",
        "plt.show()\n"
      ],
      "metadata": {
        "colab": {
          "base_uri": "https://localhost:8080/",
          "height": 722
        },
        "id": "aTMbC5Jc_HaJ",
        "outputId": "78a11968-0f9d-4ef9-903e-b86e8c59faa0"
      },
      "execution_count": 20,
      "outputs": [
        {
          "output_type": "stream",
          "name": "stdout",
          "text": [
            "\n",
            "✅ Ljung-Box Test Results (First 10 Lags):\n",
            "      lb_stat  lb_pvalue\n",
            "1    4.760006   0.029128\n",
            "2    4.875520   0.087356\n",
            "3    7.827340   0.049718\n",
            "4    8.152607   0.086145\n",
            "5    8.309700   0.139973\n",
            "6    8.309772   0.216276\n",
            "7    8.526766   0.288440\n",
            "8   10.292158   0.245116\n",
            "9   10.452983   0.315072\n",
            "10  10.486440   0.398901\n"
          ]
        },
        {
          "output_type": "stream",
          "name": "stderr",
          "text": [
            "/tmp/ipython-input-20-717175469.py:19: UserWarning: Glyph 9989 (\\N{WHITE HEAVY CHECK MARK}) missing from font(s) DejaVu Sans.\n",
            "  plt.tight_layout()\n",
            "/usr/local/lib/python3.11/dist-packages/IPython/core/pylabtools.py:151: UserWarning: Glyph 9989 (\\N{WHITE HEAVY CHECK MARK}) missing from font(s) DejaVu Sans.\n",
            "  fig.canvas.print_figure(bytes_io, **kw)\n"
          ]
        },
        {
          "output_type": "display_data",
          "data": {
            "text/plain": [
              "<Figure size 800x400 with 1 Axes>"
            ],
            "image/png": "[encoded data removed]"
          },
          "metadata": {}
        }
      ]
    },
    {
      "cell_type": "markdown",
      "source": [
        "## Weak Instrument Test"
      ],
      "metadata": {
        "id": "FwzG_T66LgMA"
      }
    },
    {
      "cell_type": "code",
      "source": [
        "# Print first-stage summary (for F-statistic)\n",
        "print(tsls_model.first_stage)\n"
      ],
      "metadata": {
        "colab": {
          "base_uri": "https://localhost:8080/"
        },
        "id": "7k2hKOSk4IZE",
        "outputId": "803c57b7-c021-4ba7-b53d-78a30700e2fe"
      },
      "execution_count": 21,
      "outputs": [
        {
          "output_type": "stream",
          "name": "stdout",
          "text": [
            "              First Stage Estimation Results             \n",
            "=========================================================\n",
            "                                 logbuildingPropertyValue\n",
            "---------------------------------------------------------\n",
            "R-squared                                          0.3468\n",
            "Partial R-squared                                  0.0160\n",
            "Shea's R-squared                                   0.0160\n",
            "Partial F-statistic                                2445.4\n",
            "P-value (Partial F-stat)                           0.0000\n",
            "Partial F-stat Distn                              chi2(2)\n",
            "================================             ============\n",
            "const                                             -25.651\n",
            "                                                (-32.924)\n",
            "logpolicyCount                                     0.9448\n",
            "                                                 (68.579)\n",
            "postFIRMConstructionIndicator                      0.2077\n",
            "                                                 (51.824)\n",
            "totalContentsInsuranceCoverage                  6.111e-06\n",
            "                                                 (108.78)\n",
            "primaryResidenceIndicator                         -0.1136\n",
            "                                                (-35.413)\n",
            "buildingDamageAmount                            3.199e-06\n",
            "                                                 (74.927)\n",
            "iccCoverage                                    -1.144e-05\n",
            "                                                (-31.697)\n",
            "logbuildingReplacementCost                         0.0213\n",
            "                                                 (31.569)\n",
            "signedLogWwaterDepth                               0.0021\n",
            "                                                 (1.6839)\n",
            "rentalPropertyIndicator                           -0.0570\n",
            "                                                (-1.7787)\n",
            "BuildingAge                                        0.0006\n",
            "                                                 (6.5127)\n",
            "yearOfLoss                                         0.0181\n",
            "                                                 (46.055)\n",
            "---------------------------------------------------------\n",
            "\n",
            "T-stats reported in parentheses\n",
            "T-stats use same covariance type as original model\n"
          ]
        }
      ]
    },
    {
      "cell_type": "markdown",
      "source": [
        "The first-stage regression for logbuildingPropertyValue yields a partial F-statistic of 2445.4 (p < 0.001), far exceeding the conventional threshold of 10. This confirms that the instruments (BuildingAge, yearOfLoss) are highly relevant and not weak. Thus, you can be confident in the strength of your instruments for the IV/2SLS estimation."
      ],
      "metadata": {
        "id": "0rDDtrOANj_A"
      }
    },
    {
      "cell_type": "code",
      "source": [
        "hansen_j = tsls_model.sargan\n",
        "print(\"\\nHansen J Test (Sargan Test):\")\n",
        "print(hansen_j)"
      ],
      "metadata": {
        "colab": {
          "base_uri": "https://localhost:8080/"
        },
        "id": "YpbzLXOELMqs",
        "outputId": "c266060f-df28-40cd-e79e-9a2a8c5d235f"
      },
      "execution_count": 22,
      "outputs": [
        {
          "output_type": "stream",
          "name": "stdout",
          "text": [
            "\n",
            "Hansen J Test (Sargan Test):\n",
            "Sargan's test of overidentification\n",
            "H0: The model is not overidentified.\n",
            "Statistic: 0.7646\n",
            "P-value: 0.3819\n",
            "Distributed: chi2(1)\n"
          ]
        }
      ]
    },
    {
      "cell_type": "markdown",
      "source": [
        "The Hansen J test for overidentification yields a test statistic of 0.76 (p-value = 0.38). Thus, we fail to reject the null hypothesis of instrument exogeneity, supporting the validity of the instruments used in the IV estimation."
      ],
      "metadata": {
        "id": "4TquhHjZMJKt"
      }
    },
    {
      "cell_type": "markdown",
      "source": [
        "## GMM"
      ],
      "metadata": {
        "id": "KW9XmGAxZSiL"
      }
    },
    {
      "cell_type": "code",
      "source": [
        "from linearmodels.iv import IVGMM\n",
        "import statsmodels.api as sm\n",
        "from scipy.stats import chi2\n",
        "\n",
        "# 1. Define variables\n",
        "y = df['amountPaidOnBuildingClaim']  # Dependent variable\n",
        "X = sm.add_constant(df[exog_cols])   # Exogenous regressors (with constant)\n",
        "endog = df['logbuildingPropertyValue']  # Endogenous regressor\n",
        "instr = df[['BuildingAge', 'yearOfLoss']]  # Instruments\n",
        "\n",
        "# 2. Build IVGMM model\n",
        "ivgmm_model = IVGMM(dependent=y, exog=X, endog=endog, instruments=instr)\n",
        "ivgmm_results = ivgmm_model.fit(cov_type='robust')  # robust = heteroskedasticity-robust\n",
        "\n",
        "print(ivgmm_results.summary)\n"
      ],
      "metadata": {
        "colab": {
          "base_uri": "https://localhost:8080/"
        },
        "id": "hs_Hg-NHZWFN",
        "outputId": "84060a5a-eefd-4854-ffa8-f9ceb154df0b"
      },
      "execution_count": 23,
      "outputs": [
        {
          "output_type": "stream",
          "name": "stdout",
          "text": [
            "                              IV-GMM Estimation Summary                              \n",
            "=====================================================================================\n",
            "Dep. Variable:     amountPaidOnBuildingClaim   R-squared:                      0.8008\n",
            "Estimator:                            IV-GMM   Adj. R-squared:                 0.8008\n",
            "No. Observations:                     243498   F-statistic:                 1.737e+05\n",
            "Date:                       Fri, Jun 20 2025   P-value (F-stat)                0.0000\n",
            "Time:                               06:45:13   Distribution:                 chi2(10)\n",
            "Cov. Estimator:                       robust                                         \n",
            "                                                                                     \n",
            "                                       Parameter Estimates                                        \n",
            "==================================================================================================\n",
            "                                Parameter  Std. Err.     T-stat    P-value    Lower CI    Upper CI\n",
            "--------------------------------------------------------------------------------------------------\n",
            "const                           -2.13e+05     6615.7    -32.195     0.0000   -2.26e+05      -2e+05\n",
            "logpolicyCount                 -1.219e+04     1026.3    -11.875     0.0000   -1.42e+04  -1.018e+04\n",
            "postFIRMConstructionIndicator     -4339.7     181.27    -23.941     0.0000     -4695.0     -3984.5\n",
            "totalContentsInsuranceCoverage    -0.0853     0.0045    -18.751     0.0000     -0.0942     -0.0764\n",
            "primaryResidenceIndicator          3312.2     145.56     22.756     0.0000      3026.9      3597.5\n",
            "buildingDamageAmount               0.7199     0.0094     76.707     0.0000      0.7015      0.7383\n",
            "iccCoverage                        0.1320     0.0139     9.4947     0.0000      0.1048      0.1593\n",
            "logbuildingReplacementCost        -479.20     32.616    -14.692     0.0000     -543.13     -415.27\n",
            "signedLogWwaterDepth               587.53     128.44     4.5744     0.0000      335.79      839.27\n",
            "rentalPropertyIndicator           -1949.3     803.62    -2.4256     0.0153     -3524.3     -374.22\n",
            "logbuildingPropertyValue        2.003e+04     636.44     31.474     0.0000   1.878e+04   2.128e+04\n",
            "==================================================================================================\n",
            "\n",
            "Endogenous: logbuildingPropertyValue\n",
            "Instruments: BuildingAge, yearOfLoss\n",
            "GMM Covariance\n",
            "Debiased: False\n",
            "Robust (Heteroskedastic)\n"
          ]
        }
      ]
    },
    {
      "cell_type": "code",
      "source": [
        "# First-stage regression: regress endog on instruments + exog\n",
        "Z = sm.add_constant(pd.concat([instr, X.drop(columns='const')], axis=1))\n",
        "# Use 'HC1' for heteroskedasticity-robust standard errors in OLS\n",
        "first_stage = sm.OLS(endog, Z).fit(cov_type='HC0')\n",
        "print(first_stage.summary())\n",
        "\n",
        "# Check F-statistic of instruments jointly\n",
        "from statsmodels.stats.diagnostic import linear_reset\n",
        "from statsmodels.stats.outliers_influence import variance_inflation_factor\n",
        "\n",
        "# Print partial R^2 and F-test for instruments\n",
        "# The f_test will now use the robust covariance matrix\n",
        "f_test = first_stage.f_test(\"BuildingAge = 0, yearOfLoss = 0\")\n",
        "print(f\"Weak instrument F-statistic: {float(f_test.fvalue):.4f}\")\n",
        "print(f\"P-value: {float(f_test.pvalue):.4f}\")"
      ],
      "metadata": {
        "colab": {
          "base_uri": "https://localhost:8080/"
        },
        "id": "dBuOLt9WJBF9",
        "outputId": "730241eb-baaa-4187-dd5d-55ae3573c315"
      },
      "execution_count": 24,
      "outputs": [
        {
          "output_type": "stream",
          "name": "stdout",
          "text": [
            "                               OLS Regression Results                               \n",
            "====================================================================================\n",
            "Dep. Variable:     logbuildingPropertyValue   R-squared:                       0.347\n",
            "Model:                                  OLS   Adj. R-squared:                  0.347\n",
            "Method:                       Least Squares   F-statistic:                     5959.\n",
            "Date:                      Fri, 20 Jun 2025   Prob (F-statistic):               0.00\n",
            "Time:                              06:45:13   Log-Likelihood:            -2.4423e+05\n",
            "No. Observations:                    243498   AIC:                         4.885e+05\n",
            "Df Residuals:                        243486   BIC:                         4.886e+05\n",
            "Df Model:                                11                                         \n",
            "Covariance Type:                        HC0                                         \n",
            "==================================================================================================\n",
            "                                     coef    std err          z      P>|z|      [0.025      0.975]\n",
            "--------------------------------------------------------------------------------------------------\n",
            "const                            -25.6511      0.779    -32.924      0.000     -27.178     -24.124\n",
            "BuildingAge                        0.0006   9.95e-05      6.513      0.000       0.000       0.001\n",
            "yearOfLoss                         0.0181      0.000     46.055      0.000       0.017       0.019\n",
            "logpolicyCount                     0.9448      0.014     68.579      0.000       0.918       0.972\n",
            "postFIRMConstructionIndicator      0.2077      0.004     51.824      0.000       0.200       0.216\n",
            "totalContentsInsuranceCoverage  6.111e-06   5.62e-08    108.779      0.000       6e-06    6.22e-06\n",
            "primaryResidenceIndicator         -0.1136      0.003    -35.413      0.000      -0.120      -0.107\n",
            "buildingDamageAmount            3.199e-06   4.27e-08     74.927      0.000    3.12e-06    3.28e-06\n",
            "iccCoverage                    -1.144e-05   3.61e-07    -31.697      0.000   -1.22e-05   -1.07e-05\n",
            "logbuildingReplacementCost         0.0213      0.001     31.569      0.000       0.020       0.023\n",
            "signedLogWwaterDepth               0.0021      0.001      1.684      0.092      -0.000       0.005\n",
            "rentalPropertyIndicator           -0.0570      0.032     -1.779      0.075      -0.120       0.006\n",
            "==============================================================================\n",
            "Omnibus:                   101339.421   Durbin-Watson:                   2.000\n",
            "Prob(Omnibus):                  0.000   Jarque-Bera (JB):          4565731.669\n",
            "Skew:                           1.279   Prob(JB):                         0.00\n",
            "Kurtosis:                      24.059   Cond. No.                     3.83e+07\n",
            "==============================================================================\n",
            "\n",
            "Notes:\n",
            "[1] Standard Errors are heteroscedasticity robust (HC0)\n",
            "[2] The condition number is large, 3.83e+07. This might indicate that there are\n",
            "strong multicollinearity or other numerical problems.\n",
            "Weak instrument F-statistic: 1222.6919\n",
            "P-value: 0.0000\n"
          ]
        }
      ]
    },
    {
      "cell_type": "code",
      "source": [
        "print(\"Overidentification Test (Hansen's J):\")\n",
        "print(f\"Statistic: {ivgmm_results.j_stat.stat:.4f}\")\n",
        "print(f\"p-value: {ivgmm_results.j_stat.pval:.4f}\")\n"
      ],
      "metadata": {
        "colab": {
          "base_uri": "https://localhost:8080/"
        },
        "id": "7nM0UT83fGdw",
        "outputId": "d633753c-a746-4470-95c8-a7470650e020"
      },
      "execution_count": 25,
      "outputs": [
        {
          "output_type": "stream",
          "name": "stdout",
          "text": [
            "Overidentification Test (Hansen's J):\n",
            "Statistic: 0.6077\n",
            "p-value: 0.4357\n"
          ]
        }
      ]
    }
  ]
}